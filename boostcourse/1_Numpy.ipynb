{
 "cells": [
  {
   "cell_type": "markdown",
   "id": "6efe11d4-1f47-4423-a4b0-0e218351b10b",
   "metadata": {},
   "source": [
    "# Numpy 특징\n",
    "- 일반 List에 비해 빠르고 메로리 효율적\n",
    "- 반복문 없이 데이터 배열에 대한 처리를 지원\n",
    "- 선형대수와 관련된 다양한 기능 제공\n",
    "- c , c++, 포트란 등의 언어와 통합가능\n",
    "- 큰 장점이자 List와 가장 큰 차이점 : Dynamic typing not supported\n",
    "\n",
    "## ndarray : 넘파이에서 가장 기본 단위 "
   ]
  },
  {
   "cell_type": "code",
   "execution_count": 8,
   "id": "759fc8b6-ec1b-4f8d-9211-01513e207cfc",
   "metadata": {},
   "outputs": [
    {
     "data": {
      "text/plain": [
       "(array([1., 2., 3., 4.]), dtype('float64'))"
      ]
     },
     "execution_count": 8,
     "metadata": {},
     "output_type": "execute_result"
    }
   ],
   "source": [
    "# 넘파이 호출\n",
    "import numpy as np\n",
    "# string , int 타입으로 써도 float 타입 명시했기때문에 flat 타입으로 호출\n",
    "test_array = np.array(['1','2',3,4],float)\n",
    "test_array, test_array.dtype"
   ]
  },
  {
   "cell_type": "markdown",
   "id": "516c1853-6254-4242-9061-85057b1752fa",
   "metadata": {},
   "source": [
    "## shape : numpy array의 object와 dimension 구성을 반환함\n",
    "- ndim : 차원의 크기\n",
    "- size : data의 개수"
   ]
  },
  {
   "cell_type": "code",
   "execution_count": 11,
   "id": "5dc50f2f-02d5-48fa-8b8f-bdc8f55ac6be",
   "metadata": {},
   "outputs": [
    {
     "data": {
      "text/plain": [
       "(1, 4)"
      ]
     },
     "execution_count": 11,
     "metadata": {},
     "output_type": "execute_result"
    }
   ],
   "source": [
    "test_array = np.array([['1','2',3,4]])\n",
    "test_array.shape"
   ]
  },
  {
   "cell_type": "code",
   "execution_count": 17,
   "id": "14cc6b29-fe28-4953-88ed-00accb5c2918",
   "metadata": {},
   "outputs": [
    {
     "data": {
      "text/plain": [
       "array([[1, 2],\n",
       "       [3, 4],\n",
       "       [5, 6],\n",
       "       [7, 8]])"
      ]
     },
     "execution_count": 17,
     "metadata": {},
     "output_type": "execute_result"
    }
   ],
   "source": [
    "#reshape 데이터를 펴줄때 사용\n",
    "# -1size를 기반으로 row 개수 선정\n",
    "matrix = [[1,2,3,4],[5,6,7,8]]\n",
    "np.array(matrix).reshape(-1,2)"
   ]
  },
  {
   "cell_type": "code",
   "execution_count": 24,
   "id": "3e20d9ba-e9a6-49df-8aee-d63dc8cd0c6e",
   "metadata": {},
   "outputs": [
    {
     "data": {
      "text/plain": [
       "array([1, 2, 3, 4, 5, 6, 7, 8, 2, 3, 8, 9])"
      ]
     },
     "execution_count": 24,
     "metadata": {},
     "output_type": "execute_result"
    }
   ],
   "source": [
    "# flatten다차원 array를 1차원 array로 변환\n",
    "matrix = [[1,2,3,4],[5,6,7,8],[2,3,8,9]]\n",
    "np.array(matrix).flatten()"
   ]
  },
  {
   "cell_type": "code",
   "execution_count": 30,
   "id": "6ab18500-9644-47a7-bdbe-bb97f3cea4b8",
   "metadata": {},
   "outputs": [
    {
     "data": {
      "text/plain": [
       "array([6, 7, 9])"
      ]
     },
     "execution_count": 30,
     "metadata": {},
     "output_type": "execute_result"
    }
   ],
   "source": [
    "a = np.array([[2,3,8,5,10],[6,7,9,4,8]])\n",
    "a[:,2:] #row는 전체 column은 2열 이상\n",
    "a[1:,1:] #1row , 1column 이상\n",
    "a[1,:3] # 1번째 row에서 3번째 cloumn 미만"
   ]
  },
  {
   "cell_type": "markdown",
   "id": "493e3ab9-d1c4-4ee8-8616-0b7947050f5a",
   "metadata": {},
   "source": [
    "# arange"
   ]
  },
  {
   "cell_type": "code",
   "execution_count": 41,
   "id": "51e88491-34a8-4efc-84a2-afe33062a26b",
   "metadata": {},
   "outputs": [
    {
     "data": {
      "text/plain": [
       "array([[ 0,  1,  2,  3,  4],\n",
       "       [ 5,  6,  7,  8,  9],\n",
       "       [10, 11, 12, 13, 14],\n",
       "       [15, 16, 17, 18, 19],\n",
       "       [20, 21, 22, 23, 24],\n",
       "       [25, 26, 27, 28, 29]])"
      ]
     },
     "execution_count": 41,
     "metadata": {},
     "output_type": "execute_result"
    }
   ],
   "source": [
    "#arange,reshape 을 활용해 0-29까지 5column의 배열만들기 \n",
    "np.arange(30).reshape(-1,5)"
   ]
  },
  {
   "cell_type": "code",
   "execution_count": 44,
   "id": "1a3ad2d0-7b62-4c42-89f8-3ee1e06b66e4",
   "metadata": {},
   "outputs": [
    {
     "data": {
      "text/plain": [
       "array([0. , 0.5, 1. , 1.5, 2. , 2.5, 3. , 3.5, 4. , 4.5, 5. , 5.5, 6. ,\n",
       "       6.5, 7. , 7.5, 8. , 8.5, 9. , 9.5])"
      ]
     },
     "execution_count": 44,
     "metadata": {},
     "output_type": "execute_result"
    }
   ],
   "source": [
    "np.arange(0,10,0.5) #start, end 포인트 설정 후 일정간격으로 정렬가능"
   ]
  },
  {
   "cell_type": "code",
   "execution_count": 47,
   "id": "1f80c22a-77aa-47ad-9d88-f8cc3ce55004",
   "metadata": {},
   "outputs": [
    {
     "data": {
      "text/plain": [
       "array([0, 0, 0, 0, 0, 0, 0, 0, 0, 0], dtype=int8)"
      ]
     },
     "execution_count": 47,
     "metadata": {},
     "output_type": "execute_result"
    }
   ],
   "source": [
    "# zeros : 0으로 가득찬 ndarray 생성 -> np.zeros(shape, dtype, order)\n",
    "np.zeros(shape=(10,), dtype=np.int8)\n"
   ]
  },
  {
   "cell_type": "code",
   "execution_count": 50,
   "id": "026fc591-3ba6-46e3-b3aa-4de6421a74b3",
   "metadata": {},
   "outputs": [
    {
     "data": {
      "text/plain": [
       "array([[1, 1, 1, 1, 1, 1],\n",
       "       [1, 1, 1, 1, 1, 1],\n",
       "       [1, 1, 1, 1, 1, 1],\n",
       "       [1, 1, 1, 1, 1, 1],\n",
       "       [1, 1, 1, 1, 1, 1]])"
      ]
     },
     "execution_count": 50,
     "metadata": {},
     "output_type": "execute_result"
    }
   ],
   "source": [
    "# np.ones((2,5)) ones : 1로 가득찬 array 생성\n",
    "matrix = np.arange(30).reshape(-1,6)\n",
    "np.ones_like(matrix)"
   ]
  },
  {
   "cell_type": "markdown",
   "id": "a2cb8084-ce51-4152-96ce-197729beb7f2",
   "metadata": {},
   "source": [
    "# axis\n",
    "- axis = 1 : column\n",
    "- axis = 0 : row"
   ]
  },
  {
   "cell_type": "code",
   "execution_count": 55,
   "id": "e8977c42-e0a7-4384-a21f-340f14cf5fff",
   "metadata": {},
   "outputs": [
    {
     "data": {
      "text/plain": [
       "array([[ 0,  1,  2,  3],\n",
       "       [ 4,  5,  6,  7],\n",
       "       [ 8,  9, 10, 11]])"
      ]
     },
     "execution_count": 55,
     "metadata": {},
     "output_type": "execute_result"
    }
   ],
   "source": [
    "test = np.arange(12).reshape(3,4)\n",
    "test"
   ]
  },
  {
   "cell_type": "code",
   "execution_count": 57,
   "id": "42b8e41f-4ec9-45dd-9941-075db7c8a00b",
   "metadata": {},
   "outputs": [
    {
     "data": {
      "text/plain": [
       "(array([ 6, 22, 38]), array([12, 15, 18, 21]))"
      ]
     },
     "execution_count": 57,
     "metadata": {},
     "output_type": "execute_result"
    }
   ],
   "source": [
    "test.sum(axis=1), test.sum(axis=0)"
   ]
  },
  {
   "cell_type": "markdown",
   "id": "e3da1342-0893-43d0-b05d-a3920a12ba79",
   "metadata": {},
   "source": [
    "# concatenate\n",
    "- Numpy array를 합치는 함수\n",
    "- vstack, hstack"
   ]
  },
  {
   "cell_type": "code",
   "execution_count": 59,
   "id": "ddfa7813-8b5f-4538-a51e-708aae4798ca",
   "metadata": {},
   "outputs": [
    {
     "data": {
      "text/plain": [
       "(array([[1, 2, 3, 4],\n",
       "        [5, 6, 7, 8]]),\n",
       " array([1, 2, 3, 4, 5, 6, 7, 8]))"
      ]
     },
     "execution_count": 59,
     "metadata": {},
     "output_type": "execute_result"
    }
   ],
   "source": [
    "a = np.array([1,2,3,4])\n",
    "b = np.array([5,6,7,8])\n",
    "np.vstack((a,b))"
   ]
  },
  {
   "cell_type": "code",
   "execution_count": 62,
   "id": "32cd4cf5-9623-478d-a07a-0e5fbacc4a97",
   "metadata": {},
   "outputs": [
    {
     "data": {
      "text/plain": [
       "array([[1, 2, 5, 8],\n",
       "       [3, 4, 2, 3]])"
      ]
     },
     "execution_count": 62,
     "metadata": {},
     "output_type": "execute_result"
    }
   ],
   "source": [
    "a = np.array([[1,2],[3,4]])\n",
    "b = np.array([[5,8],[2,3]])\n",
    "np.hstack((a,b))"
   ]
  },
  {
   "cell_type": "markdown",
   "id": "b1eb2186-8af9-463f-b11d-1d2340378f24",
   "metadata": {},
   "source": [
    "# 사칙연산도 굉장히 간단하게 지원함"
   ]
  },
  {
   "cell_type": "code",
   "execution_count": 69,
   "id": "e35c8938-a997-4358-b567-54b49c513f71",
   "metadata": {},
   "outputs": [],
   "source": [
    "test1 = np.array([[1,2,3],[4,5,6]],float)"
   ]
  },
  {
   "cell_type": "code",
   "execution_count": 73,
   "id": "905dcf5d-c0f5-4eb5-bb9e-2c146c04991c",
   "metadata": {},
   "outputs": [
    {
     "data": {
      "text/plain": [
       "(array([[ 2.,  4.,  6.],\n",
       "        [ 8., 10., 12.]]),\n",
       " array([[0., 0., 0.],\n",
       "        [0., 0., 0.]]),\n",
       " array([[ 1.,  4.,  9.],\n",
       "        [16., 25., 36.]]))"
      ]
     },
     "execution_count": 73,
     "metadata": {},
     "output_type": "execute_result"
    }
   ],
   "source": [
    "test1+test1, test1-test1, test1*test1"
   ]
  },
  {
   "cell_type": "markdown",
   "id": "d34082df-1ebb-4b64-9aae-9699849b0a8d",
   "metadata": {},
   "source": [
    "## dot : matrix의 값이 다를때 곱셈사용"
   ]
  },
  {
   "cell_type": "code",
   "execution_count": 79,
   "id": "de5a9a4d-6dd9-4b64-a6ac-dfd58806b3a0",
   "metadata": {},
   "outputs": [
    {
     "data": {
      "text/plain": [
       "(array([[1, 2, 3],\n",
       "        [4, 5, 6]]),\n",
       " array([[1, 2],\n",
       "        [3, 4],\n",
       "        [5, 6]]))"
      ]
     },
     "execution_count": 79,
     "metadata": {},
     "output_type": "execute_result"
    }
   ],
   "source": [
    "test_a = np.arange(1,7).reshape(2,3)\n",
    "test_b = np.arange(1,7).reshape(3,2)\n",
    "test_a,test_b"
   ]
  },
  {
   "cell_type": "code",
   "execution_count": 77,
   "id": "355bf363-efcf-413e-bbd6-1895961585e7",
   "metadata": {},
   "outputs": [
    {
     "data": {
      "text/plain": [
       "array([[22, 28],\n",
       "       [49, 64]])"
      ]
     },
     "execution_count": 77,
     "metadata": {},
     "output_type": "execute_result"
    }
   ],
   "source": [
    "test_a.dot(test_b)"
   ]
  },
  {
   "cell_type": "markdown",
   "id": "ff34d901-1d0a-4234-81df-51c839f13e7c",
   "metadata": {},
   "source": [
    "# broadcasting : 상당히 중요\n",
    "\n",
    "- shape이 다른 배열 간 연산을 지원하는 기능\n",
    "- matrix - scalar\n",
    "- matrix * scalar\n",
    "- matrix / scalar\n",
    "- matrix // scalar\n",
    "- matrix ** scalar"
   ]
  },
  {
   "cell_type": "code",
   "execution_count": 84,
   "id": "2d87a633-8441-4bc1-9f2f-d92ffab643e1",
   "metadata": {},
   "outputs": [
    {
     "data": {
      "text/plain": [
       "array([[1, 2, 3],\n",
       "       [4, 5, 6]])"
      ]
     },
     "execution_count": 84,
     "metadata": {},
     "output_type": "execute_result"
    }
   ],
   "source": [
    "test_a = np.arange(1,7).reshape(2,3)\n",
    "test_a"
   ]
  },
  {
   "cell_type": "code",
   "execution_count": 87,
   "id": "251935f4-b6a5-480a-92a3-c1fe1e53978f",
   "metadata": {},
   "outputs": [
    {
     "data": {
      "text/plain": [
       "(array([[0, 1, 2],\n",
       "        [3, 4, 5]]),\n",
       " array([[2, 3, 4],\n",
       "        [5, 6, 7]]),\n",
       " array([[0.5, 1. , 1.5],\n",
       "        [2. , 2.5, 3. ]]))"
      ]
     },
     "execution_count": 87,
     "metadata": {},
     "output_type": "execute_result"
    }
   ],
   "source": [
    "test_a-1,test_a+1, test_a/2"
   ]
  },
  {
   "cell_type": "markdown",
   "id": "e10c3719-b432-4ab5-8375-442a581bd95e",
   "metadata": {},
   "source": [
    "# comparisons"
   ]
  },
  {
   "cell_type": "code",
   "execution_count": 88,
   "id": "b2508e26-b87e-49ee-b036-8e34f0be9605",
   "metadata": {},
   "outputs": [
    {
     "data": {
      "text/plain": [
       "array([False, False, False, False, False, False,  True,  True,  True,\n",
       "        True])"
      ]
     },
     "execution_count": 88,
     "metadata": {},
     "output_type": "execute_result"
    }
   ],
   "source": [
    "a = np.arange(10)\n",
    "a>5"
   ]
  },
  {
   "cell_type": "code",
   "execution_count": 97,
   "id": "66b34184-5520-4088-98b1-9157c5a4061d",
   "metadata": {},
   "outputs": [
    {
     "data": {
      "text/plain": [
       "(True, False)"
      ]
     },
     "execution_count": 97,
     "metadata": {},
     "output_type": "execute_result"
    }
   ],
   "source": [
    "# any 1개라도 만족하면 true\n",
    "np.any(a>5),  np.any(a>9)"
   ]
  },
  {
   "cell_type": "code",
   "execution_count": 90,
   "id": "adb40e98-a3f6-4391-8aa7-f6b1eba0b785",
   "metadata": {},
   "outputs": [
    {
     "data": {
      "text/plain": [
       "(array([6, 7, 8, 9], dtype=int64),)"
      ]
     },
     "execution_count": 90,
     "metadata": {},
     "output_type": "execute_result"
    }
   ],
   "source": [
    "# np.where : index값 반환\n",
    "np.where(a>5)"
   ]
  },
  {
   "cell_type": "markdown",
   "id": "ecd030b8-b4f0-4b00-acf5-54e8a55d05f4",
   "metadata": {},
   "source": [
    "# boolean index"
   ]
  },
  {
   "cell_type": "code",
   "execution_count": 104,
   "id": "23efbcb7-f24d-403a-99d9-dc7a081a15d5",
   "metadata": {},
   "outputs": [
    {
     "data": {
      "text/plain": [
       "array([ 0,  1,  2,  3,  4,  5,  6,  7,  8,  9, 10, 11, 12, 13, 14, 15, 16,\n",
       "       17, 18, 19, 20, 21, 22, 23, 24, 25, 26, 27, 28, 29, 30, 31, 32, 33,\n",
       "       34, 35, 36, 37, 38, 39, 40, 41, 42, 43, 44, 45, 46, 47, 48, 49, 50,\n",
       "       51, 52, 53, 54, 55, 56, 57, 58, 59, 60, 61, 62, 63, 64, 65, 66, 67,\n",
       "       68, 69, 70, 71, 72, 73, 74, 75, 76, 77, 78, 79, 80, 81, 82, 83, 84,\n",
       "       85, 86, 87, 88, 89, 90, 91, 92, 93, 94, 95, 96, 97, 98, 99])"
      ]
     },
     "execution_count": 104,
     "metadata": {},
     "output_type": "execute_result"
    }
   ],
   "source": [
    "A= np.arange(100)\n",
    "A"
   ]
  },
  {
   "cell_type": "code",
   "execution_count": 102,
   "id": "93c7efa4-dd6c-4f05-852f-b917176f6787",
   "metadata": {},
   "outputs": [
    {
     "data": {
      "text/plain": [
       "array([1, 1, 1, 1, 1, 1, 1, 1, 1, 1, 1, 1, 1, 1, 1, 1, 1, 1, 1, 1, 1, 1,\n",
       "       1, 1, 1, 1, 1, 1, 1, 1, 0, 0, 0, 0, 0, 0, 0, 0, 0, 0, 0, 0, 0, 0,\n",
       "       0, 0, 0, 0, 0, 0, 0, 0, 0, 0, 0, 0, 0, 0, 0, 0, 0, 0, 0, 0, 0, 0,\n",
       "       0, 0, 0, 0, 0, 0, 0, 0, 0, 0, 0, 0, 0, 0, 0, 0, 0, 0, 0, 0, 0, 0,\n",
       "       0, 0, 0, 0, 0, 0, 0, 0, 0, 0, 0, 0])"
      ]
     },
     "execution_count": 102,
     "metadata": {},
     "output_type": "execute_result"
    }
   ],
   "source": [
    "B= A <30\n",
    "B.astype(int)"
   ]
  },
  {
   "cell_type": "code",
   "execution_count": null,
   "id": "5085e7f0-75f0-4f88-aba8-6d8767f77895",
   "metadata": {},
   "outputs": [],
   "source": []
  }
 ],
 "metadata": {
  "kernelspec": {
   "display_name": "Python Multi",
   "language": "python",
   "name": "multi"
  },
  "language_info": {
   "codemirror_mode": {
    "name": "ipython",
    "version": 3
   },
   "file_extension": ".py",
   "mimetype": "text/x-python",
   "name": "python",
   "nbconvert_exporter": "python",
   "pygments_lexer": "ipython3",
   "version": "3.8.8"
  }
 },
 "nbformat": 4,
 "nbformat_minor": 5
}
