{
 "cells": [
  {
   "cell_type": "markdown",
   "id": "445842fb-1429-4eaf-a1e6-b2c36fe63527",
   "metadata": {},
   "source": [
    "# target : tip"
   ]
  },
  {
   "cell_type": "code",
   "execution_count": 1,
   "id": "6852b727-9798-41c8-9059-8bf8529c4a41",
   "metadata": {},
   "outputs": [],
   "source": [
    "import pymysql.cursors\n",
    "import pandas as pd"
   ]
  },
  {
   "cell_type": "code",
   "execution_count": 2,
   "id": "polished-somerset",
   "metadata": {},
   "outputs": [],
   "source": [
    "# 불러오기\n",
    "conn = pymysql.connect(host='localhost', user='zeros', \n",
    "                       password='160525', db='tip', charset='utf8',\n",
    "                       autocommit=True, cursorclass=pymysql.cursors.DictCursor)\n",
    "try:\n",
    "    with conn.cursor() as curs:\n",
    "        sql = \"select * from tips;\"\n",
    "        curs.execute(sql)\n",
    "        rs = curs.fetchall()\n",
    "        df = pd.DataFrame(rs)\n",
    "finally:\n",
    "    conn.close()"
   ]
  },
  {
   "cell_type": "markdown",
   "id": "03ab57f5-9569-4adf-9c5c-71c5b5563ad4",
   "metadata": {},
   "source": [
    "# encoding"
   ]
  },
  {
   "cell_type": "code",
   "execution_count": 3,
   "id": "e5c15730-999e-4423-8c9e-7494267c58b6",
   "metadata": {},
   "outputs": [],
   "source": [
    "df[\"sex\"] = df[\"sex\"].replace({\"Female\" : 0, \"Male\" : 1})\n",
    "df[\"smoker\"] = df[\"smoker\"].replace({\"No\" : 0, \"Yes\" : 1})\n",
    "df[\"day\"] = df[\"day\"].replace({\"Thur\" : 0, \"Fri\" : 1, \"Sat\" : 2, \"Sun\" : 3})\n",
    "df[\"time\"] = df[\"time\"].replace({\"Lunch\" : 0, \"Dinner\" : 1})\n",
    "df['tip_rate']= df['tip']/df['total_bill']"
   ]
  },
  {
   "cell_type": "code",
   "execution_count": 4,
   "id": "0e486709-5935-446e-82a4-775b1ef957d9",
   "metadata": {},
   "outputs": [
    {
     "data": {
      "text/plain": [
       "total_bill    0\n",
       "tip           0\n",
       "sex           1\n",
       "smoker        0\n",
       "day           1\n",
       "time          2\n",
       "size          0\n",
       "tip_rate      0\n",
       "dtype: int64"
      ]
     },
     "execution_count": 4,
     "metadata": {},
     "output_type": "execute_result"
    }
   ],
   "source": [
    "df.isnull().sum()"
   ]
  },
  {
   "cell_type": "markdown",
   "id": "e0e9ab5b-5d5f-44ea-b77e-5d422af0d915",
   "metadata": {},
   "source": [
    "# null값 처리"
   ]
  },
  {
   "cell_type": "code",
   "execution_count": 5,
   "id": "faf284f7-8539-4cd9-8da4-4453f2ac048a",
   "metadata": {},
   "outputs": [],
   "source": [
    "from numpy import isnan\n",
    "from sklearn.impute import SimpleImputer"
   ]
  },
  {
   "cell_type": "code",
   "execution_count": 6,
   "id": "c81314fd-80bc-4cda-8b21-9c1a2834d66e",
   "metadata": {},
   "outputs": [],
   "source": [
    "# y=타겟\n",
    "y = df['tip']\n",
    "X = df.drop('tip',axis=1) #학습할 x에서 tip을 드랍"
   ]
  },
  {
   "cell_type": "code",
   "execution_count": 7,
   "id": "2db45397-a2d7-4ab4-884a-92b6d3886f3d",
   "metadata": {},
   "outputs": [],
   "source": [
    "data = X.values\n",
    "y = y.values"
   ]
  },
  {
   "cell_type": "code",
   "execution_count": 8,
   "id": "0d0be9a3-69df-443a-b5cc-c052226ea1b8",
   "metadata": {},
   "outputs": [
    {
     "data": {
      "text/plain": [
       "(4, 0)"
      ]
     },
     "execution_count": 8,
     "metadata": {},
     "output_type": "execute_result"
    }
   ],
   "source": [
    "#NULL값 확인\n",
    "sum(isnan(data).flatten()), sum(isnan(y).flatten())"
   ]
  },
  {
   "cell_type": "code",
   "execution_count": 9,
   "id": "8c6e8bee-aae2-4f0c-b29a-de0cfcae671f",
   "metadata": {},
   "outputs": [],
   "source": [
    "#IMPUTED DATA SET(널없는 데이터)\n",
    "imputer = SimpleImputer(strategy='median')\n",
    "imputer.fit(data)\n",
    "data_trans = imputer.transform(data) "
   ]
  },
  {
   "cell_type": "code",
   "execution_count": 10,
   "id": "cb6b3afa-d342-4533-b395-9b20bc1f3cd7",
   "metadata": {},
   "outputs": [],
   "source": [
    "df1 = pd.DataFrame(data_trans)"
   ]
  },
  {
   "cell_type": "code",
   "execution_count": 11,
   "id": "2e5a4c46-2430-4aeb-9d51-f6a3853e4040",
   "metadata": {},
   "outputs": [
    {
     "data": {
      "text/plain": [
       "0    0\n",
       "1    0\n",
       "2    0\n",
       "3    0\n",
       "4    0\n",
       "5    0\n",
       "6    0\n",
       "dtype: int64"
      ]
     },
     "execution_count": 11,
     "metadata": {},
     "output_type": "execute_result"
    }
   ],
   "source": [
    "df1.isnull().sum()"
   ]
  },
  {
   "cell_type": "code",
   "execution_count": 12,
   "id": "f149fd4f-6c69-49dd-9b6a-6981657641fc",
   "metadata": {},
   "outputs": [
    {
     "data": {
      "text/html": [
       "<div>\n",
       "<style scoped>\n",
       "    .dataframe tbody tr th:only-of-type {\n",
       "        vertical-align: middle;\n",
       "    }\n",
       "\n",
       "    .dataframe tbody tr th {\n",
       "        vertical-align: top;\n",
       "    }\n",
       "\n",
       "    .dataframe thead th {\n",
       "        text-align: right;\n",
       "    }\n",
       "</style>\n",
       "<table border=\"1\" class=\"dataframe\">\n",
       "  <thead>\n",
       "    <tr style=\"text-align: right;\">\n",
       "      <th></th>\n",
       "      <th>0</th>\n",
       "      <th>1</th>\n",
       "      <th>2</th>\n",
       "      <th>3</th>\n",
       "      <th>4</th>\n",
       "      <th>5</th>\n",
       "      <th>6</th>\n",
       "    </tr>\n",
       "  </thead>\n",
       "  <tbody>\n",
       "    <tr>\n",
       "      <th>0</th>\n",
       "      <td>16.99</td>\n",
       "      <td>0.0</td>\n",
       "      <td>0.0</td>\n",
       "      <td>3.0</td>\n",
       "      <td>1.0</td>\n",
       "      <td>2.0</td>\n",
       "      <td>0.059447</td>\n",
       "    </tr>\n",
       "    <tr>\n",
       "      <th>1</th>\n",
       "      <td>10.34</td>\n",
       "      <td>1.0</td>\n",
       "      <td>0.0</td>\n",
       "      <td>3.0</td>\n",
       "      <td>1.0</td>\n",
       "      <td>3.0</td>\n",
       "      <td>0.160542</td>\n",
       "    </tr>\n",
       "    <tr>\n",
       "      <th>2</th>\n",
       "      <td>21.01</td>\n",
       "      <td>1.0</td>\n",
       "      <td>0.0</td>\n",
       "      <td>3.0</td>\n",
       "      <td>1.0</td>\n",
       "      <td>3.0</td>\n",
       "      <td>0.166587</td>\n",
       "    </tr>\n",
       "    <tr>\n",
       "      <th>3</th>\n",
       "      <td>23.68</td>\n",
       "      <td>1.0</td>\n",
       "      <td>0.0</td>\n",
       "      <td>3.0</td>\n",
       "      <td>1.0</td>\n",
       "      <td>2.0</td>\n",
       "      <td>0.139780</td>\n",
       "    </tr>\n",
       "    <tr>\n",
       "      <th>4</th>\n",
       "      <td>24.59</td>\n",
       "      <td>0.0</td>\n",
       "      <td>0.0</td>\n",
       "      <td>3.0</td>\n",
       "      <td>1.0</td>\n",
       "      <td>4.0</td>\n",
       "      <td>0.146808</td>\n",
       "    </tr>\n",
       "    <tr>\n",
       "      <th>...</th>\n",
       "      <td>...</td>\n",
       "      <td>...</td>\n",
       "      <td>...</td>\n",
       "      <td>...</td>\n",
       "      <td>...</td>\n",
       "      <td>...</td>\n",
       "      <td>...</td>\n",
       "    </tr>\n",
       "    <tr>\n",
       "      <th>244</th>\n",
       "      <td>16.99</td>\n",
       "      <td>0.0</td>\n",
       "      <td>0.0</td>\n",
       "      <td>3.0</td>\n",
       "      <td>1.0</td>\n",
       "      <td>2.0</td>\n",
       "      <td>0.059447</td>\n",
       "    </tr>\n",
       "    <tr>\n",
       "      <th>245</th>\n",
       "      <td>16.99</td>\n",
       "      <td>1.0</td>\n",
       "      <td>0.0</td>\n",
       "      <td>2.0</td>\n",
       "      <td>1.0</td>\n",
       "      <td>3.0</td>\n",
       "      <td>0.059447</td>\n",
       "    </tr>\n",
       "    <tr>\n",
       "      <th>246</th>\n",
       "      <td>16.99</td>\n",
       "      <td>0.0</td>\n",
       "      <td>0.0</td>\n",
       "      <td>0.0</td>\n",
       "      <td>1.0</td>\n",
       "      <td>3.0</td>\n",
       "      <td>0.059447</td>\n",
       "    </tr>\n",
       "    <tr>\n",
       "      <th>247</th>\n",
       "      <td>16.99</td>\n",
       "      <td>1.0</td>\n",
       "      <td>0.0</td>\n",
       "      <td>2.0</td>\n",
       "      <td>1.0</td>\n",
       "      <td>3.0</td>\n",
       "      <td>0.059447</td>\n",
       "    </tr>\n",
       "    <tr>\n",
       "      <th>248</th>\n",
       "      <td>16.99</td>\n",
       "      <td>1.0</td>\n",
       "      <td>1.0</td>\n",
       "      <td>0.0</td>\n",
       "      <td>0.0</td>\n",
       "      <td>5.0</td>\n",
       "      <td>0.059447</td>\n",
       "    </tr>\n",
       "  </tbody>\n",
       "</table>\n",
       "<p>249 rows × 7 columns</p>\n",
       "</div>"
      ],
      "text/plain": [
       "         0    1    2    3    4    5         6\n",
       "0    16.99  0.0  0.0  3.0  1.0  2.0  0.059447\n",
       "1    10.34  1.0  0.0  3.0  1.0  3.0  0.160542\n",
       "2    21.01  1.0  0.0  3.0  1.0  3.0  0.166587\n",
       "3    23.68  1.0  0.0  3.0  1.0  2.0  0.139780\n",
       "4    24.59  0.0  0.0  3.0  1.0  4.0  0.146808\n",
       "..     ...  ...  ...  ...  ...  ...       ...\n",
       "244  16.99  0.0  0.0  3.0  1.0  2.0  0.059447\n",
       "245  16.99  1.0  0.0  2.0  1.0  3.0  0.059447\n",
       "246  16.99  0.0  0.0  0.0  1.0  3.0  0.059447\n",
       "247  16.99  1.0  0.0  2.0  1.0  3.0  0.059447\n",
       "248  16.99  1.0  1.0  0.0  0.0  5.0  0.059447\n",
       "\n",
       "[249 rows x 7 columns]"
      ]
     },
     "execution_count": 12,
     "metadata": {},
     "output_type": "execute_result"
    }
   ],
   "source": [
    "df1"
   ]
  },
  {
   "cell_type": "code",
   "execution_count": 13,
   "id": "a3356912-1710-48bb-a48d-6a2eaa7613e6",
   "metadata": {},
   "outputs": [
    {
     "data": {
      "text/html": [
       "<div>\n",
       "<style scoped>\n",
       "    .dataframe tbody tr th:only-of-type {\n",
       "        vertical-align: middle;\n",
       "    }\n",
       "\n",
       "    .dataframe tbody tr th {\n",
       "        vertical-align: top;\n",
       "    }\n",
       "\n",
       "    .dataframe thead th {\n",
       "        text-align: right;\n",
       "    }\n",
       "</style>\n",
       "<table border=\"1\" class=\"dataframe\">\n",
       "  <thead>\n",
       "    <tr style=\"text-align: right;\">\n",
       "      <th></th>\n",
       "      <th>total_bill</th>\n",
       "      <th>sex</th>\n",
       "      <th>smoker</th>\n",
       "      <th>day</th>\n",
       "      <th>time</th>\n",
       "      <th>size</th>\n",
       "      <th>tip_rate</th>\n",
       "    </tr>\n",
       "  </thead>\n",
       "  <tbody>\n",
       "    <tr>\n",
       "      <th>0</th>\n",
       "      <td>16.99</td>\n",
       "      <td>0.0</td>\n",
       "      <td>0.0</td>\n",
       "      <td>3.0</td>\n",
       "      <td>1.0</td>\n",
       "      <td>2.0</td>\n",
       "      <td>0.059447</td>\n",
       "    </tr>\n",
       "    <tr>\n",
       "      <th>1</th>\n",
       "      <td>10.34</td>\n",
       "      <td>1.0</td>\n",
       "      <td>0.0</td>\n",
       "      <td>3.0</td>\n",
       "      <td>1.0</td>\n",
       "      <td>3.0</td>\n",
       "      <td>0.160542</td>\n",
       "    </tr>\n",
       "    <tr>\n",
       "      <th>2</th>\n",
       "      <td>21.01</td>\n",
       "      <td>1.0</td>\n",
       "      <td>0.0</td>\n",
       "      <td>3.0</td>\n",
       "      <td>1.0</td>\n",
       "      <td>3.0</td>\n",
       "      <td>0.166587</td>\n",
       "    </tr>\n",
       "    <tr>\n",
       "      <th>3</th>\n",
       "      <td>23.68</td>\n",
       "      <td>1.0</td>\n",
       "      <td>0.0</td>\n",
       "      <td>3.0</td>\n",
       "      <td>1.0</td>\n",
       "      <td>2.0</td>\n",
       "      <td>0.139780</td>\n",
       "    </tr>\n",
       "    <tr>\n",
       "      <th>4</th>\n",
       "      <td>24.59</td>\n",
       "      <td>0.0</td>\n",
       "      <td>0.0</td>\n",
       "      <td>3.0</td>\n",
       "      <td>1.0</td>\n",
       "      <td>4.0</td>\n",
       "      <td>0.146808</td>\n",
       "    </tr>\n",
       "    <tr>\n",
       "      <th>...</th>\n",
       "      <td>...</td>\n",
       "      <td>...</td>\n",
       "      <td>...</td>\n",
       "      <td>...</td>\n",
       "      <td>...</td>\n",
       "      <td>...</td>\n",
       "      <td>...</td>\n",
       "    </tr>\n",
       "    <tr>\n",
       "      <th>244</th>\n",
       "      <td>16.99</td>\n",
       "      <td>0.0</td>\n",
       "      <td>0.0</td>\n",
       "      <td>3.0</td>\n",
       "      <td>1.0</td>\n",
       "      <td>2.0</td>\n",
       "      <td>0.059447</td>\n",
       "    </tr>\n",
       "    <tr>\n",
       "      <th>245</th>\n",
       "      <td>16.99</td>\n",
       "      <td>1.0</td>\n",
       "      <td>0.0</td>\n",
       "      <td>2.0</td>\n",
       "      <td>1.0</td>\n",
       "      <td>3.0</td>\n",
       "      <td>0.059447</td>\n",
       "    </tr>\n",
       "    <tr>\n",
       "      <th>246</th>\n",
       "      <td>16.99</td>\n",
       "      <td>0.0</td>\n",
       "      <td>0.0</td>\n",
       "      <td>0.0</td>\n",
       "      <td>1.0</td>\n",
       "      <td>3.0</td>\n",
       "      <td>0.059447</td>\n",
       "    </tr>\n",
       "    <tr>\n",
       "      <th>247</th>\n",
       "      <td>16.99</td>\n",
       "      <td>1.0</td>\n",
       "      <td>0.0</td>\n",
       "      <td>2.0</td>\n",
       "      <td>1.0</td>\n",
       "      <td>3.0</td>\n",
       "      <td>0.059447</td>\n",
       "    </tr>\n",
       "    <tr>\n",
       "      <th>248</th>\n",
       "      <td>16.99</td>\n",
       "      <td>1.0</td>\n",
       "      <td>1.0</td>\n",
       "      <td>0.0</td>\n",
       "      <td>0.0</td>\n",
       "      <td>5.0</td>\n",
       "      <td>0.059447</td>\n",
       "    </tr>\n",
       "  </tbody>\n",
       "</table>\n",
       "<p>249 rows × 7 columns</p>\n",
       "</div>"
      ],
      "text/plain": [
       "     total_bill  sex  smoker  day  time  size  tip_rate\n",
       "0         16.99  0.0     0.0  3.0   1.0   2.0  0.059447\n",
       "1         10.34  1.0     0.0  3.0   1.0   3.0  0.160542\n",
       "2         21.01  1.0     0.0  3.0   1.0   3.0  0.166587\n",
       "3         23.68  1.0     0.0  3.0   1.0   2.0  0.139780\n",
       "4         24.59  0.0     0.0  3.0   1.0   4.0  0.146808\n",
       "..          ...  ...     ...  ...   ...   ...       ...\n",
       "244       16.99  0.0     0.0  3.0   1.0   2.0  0.059447\n",
       "245       16.99  1.0     0.0  2.0   1.0   3.0  0.059447\n",
       "246       16.99  0.0     0.0  0.0   1.0   3.0  0.059447\n",
       "247       16.99  1.0     0.0  2.0   1.0   3.0  0.059447\n",
       "248       16.99  1.0     1.0  0.0   0.0   5.0  0.059447\n",
       "\n",
       "[249 rows x 7 columns]"
      ]
     },
     "execution_count": 13,
     "metadata": {},
     "output_type": "execute_result"
    }
   ],
   "source": [
    "# null 값 처리 후 원상복구\n",
    "df1 = pd.DataFrame(data_trans, columns=['total_bill','sex','smoker','day','time','size','tip_rate'])\n",
    "df1"
   ]
  },
  {
   "cell_type": "markdown",
   "id": "0cf00b00-6bc5-446a-a443-327c83050945",
   "metadata": {},
   "source": [
    "# RFE\n",
    "- 중요도가 낮은 변수를 제거하는 방식."
   ]
  },
  {
   "cell_type": "code",
   "execution_count": 14,
   "id": "172eee4f-0e3e-4196-a2d6-d7027abb4784",
   "metadata": {},
   "outputs": [],
   "source": [
    "from sklearn.feature_selection import RFE\n",
    "from sklearn.svm import SVR"
   ]
  },
  {
   "cell_type": "code",
   "execution_count": 15,
   "id": "ad7cbdc4-8358-44c8-bd82-e53648f9af29",
   "metadata": {},
   "outputs": [],
   "source": [
    "rfe = RFE(estimator=SVR(kernel=\"linear\"), n_features_to_select=4)"
   ]
  },
  {
   "cell_type": "code",
   "execution_count": 16,
   "id": "367b0580-2848-41ec-8f0a-ca1c2043539f",
   "metadata": {},
   "outputs": [
    {
     "data": {
      "text/plain": [
       "RFE(estimator=SVR(kernel='linear'), n_features_to_select=4)"
      ]
     },
     "execution_count": 16,
     "metadata": {},
     "output_type": "execute_result"
    }
   ],
   "source": [
    "# fit RFE\n",
    "rfe.fit(df1, y)"
   ]
  },
  {
   "cell_type": "code",
   "execution_count": 17,
   "id": "de0ccc79-9614-4cf2-8667-f0886ada72ff",
   "metadata": {},
   "outputs": [
    {
     "data": {
      "text/plain": [
       "(249, 7)"
      ]
     },
     "execution_count": 17,
     "metadata": {},
     "output_type": "execute_result"
    }
   ],
   "source": [
    "df1.shape"
   ]
  },
  {
   "cell_type": "code",
   "execution_count": 18,
   "id": "67ab7bde-b71a-4ede-8640-6894c5ffefd5",
   "metadata": {},
   "outputs": [
    {
     "name": "stdout",
     "output_type": "stream",
     "text": [
      "Column: 0, Selected=True, Rank: 1\n",
      "Column: 1, Selected=False, Rank: 2\n",
      "Column: 2, Selected=False, Rank: 3\n",
      "Column: 3, Selected=True, Rank: 1\n",
      "Column: 4, Selected=True, Rank: 1\n",
      "Column: 5, Selected=False, Rank: 4\n",
      "Column: 6, Selected=True, Rank: 1\n"
     ]
    }
   ],
   "source": [
    "for i in range(df1.shape[1]):\n",
    "  print('Column: %d, Selected=%s, Rank: %d' % (i, rfe.support_[i], rfe.ranking_[i]))"
   ]
  },
  {
   "cell_type": "code",
   "execution_count": 19,
   "id": "9ff1b649-6546-4511-bc55-29991b249980",
   "metadata": {},
   "outputs": [
    {
     "data": {
      "text/plain": [
       "Index(['total_bill', 'sex', 'smoker', 'day', 'time', 'size', 'tip_rate'], dtype='object')"
      ]
     },
     "execution_count": 19,
     "metadata": {},
     "output_type": "execute_result"
    }
   ],
   "source": [
    "df1.columns"
   ]
  },
  {
   "cell_type": "code",
   "execution_count": 20,
   "id": "f5e34473-e2a2-4725-9f48-1df942531936",
   "metadata": {},
   "outputs": [
    {
     "data": {
      "text/html": [
       "<div>\n",
       "<style scoped>\n",
       "    .dataframe tbody tr th:only-of-type {\n",
       "        vertical-align: middle;\n",
       "    }\n",
       "\n",
       "    .dataframe tbody tr th {\n",
       "        vertical-align: top;\n",
       "    }\n",
       "\n",
       "    .dataframe thead th {\n",
       "        text-align: right;\n",
       "    }\n",
       "</style>\n",
       "<table border=\"1\" class=\"dataframe\">\n",
       "  <thead>\n",
       "    <tr style=\"text-align: right;\">\n",
       "      <th></th>\n",
       "      <th>total_bill</th>\n",
       "      <th>day</th>\n",
       "      <th>time</th>\n",
       "      <th>tip_rate</th>\n",
       "    </tr>\n",
       "  </thead>\n",
       "  <tbody>\n",
       "    <tr>\n",
       "      <th>0</th>\n",
       "      <td>16.99</td>\n",
       "      <td>3.0</td>\n",
       "      <td>1.0</td>\n",
       "      <td>0.059447</td>\n",
       "    </tr>\n",
       "    <tr>\n",
       "      <th>1</th>\n",
       "      <td>10.34</td>\n",
       "      <td>3.0</td>\n",
       "      <td>1.0</td>\n",
       "      <td>0.160542</td>\n",
       "    </tr>\n",
       "    <tr>\n",
       "      <th>2</th>\n",
       "      <td>21.01</td>\n",
       "      <td>3.0</td>\n",
       "      <td>1.0</td>\n",
       "      <td>0.166587</td>\n",
       "    </tr>\n",
       "    <tr>\n",
       "      <th>3</th>\n",
       "      <td>23.68</td>\n",
       "      <td>3.0</td>\n",
       "      <td>1.0</td>\n",
       "      <td>0.139780</td>\n",
       "    </tr>\n",
       "    <tr>\n",
       "      <th>4</th>\n",
       "      <td>24.59</td>\n",
       "      <td>3.0</td>\n",
       "      <td>1.0</td>\n",
       "      <td>0.146808</td>\n",
       "    </tr>\n",
       "    <tr>\n",
       "      <th>...</th>\n",
       "      <td>...</td>\n",
       "      <td>...</td>\n",
       "      <td>...</td>\n",
       "      <td>...</td>\n",
       "    </tr>\n",
       "    <tr>\n",
       "      <th>244</th>\n",
       "      <td>16.99</td>\n",
       "      <td>3.0</td>\n",
       "      <td>1.0</td>\n",
       "      <td>0.059447</td>\n",
       "    </tr>\n",
       "    <tr>\n",
       "      <th>245</th>\n",
       "      <td>16.99</td>\n",
       "      <td>2.0</td>\n",
       "      <td>1.0</td>\n",
       "      <td>0.059447</td>\n",
       "    </tr>\n",
       "    <tr>\n",
       "      <th>246</th>\n",
       "      <td>16.99</td>\n",
       "      <td>0.0</td>\n",
       "      <td>1.0</td>\n",
       "      <td>0.059447</td>\n",
       "    </tr>\n",
       "    <tr>\n",
       "      <th>247</th>\n",
       "      <td>16.99</td>\n",
       "      <td>2.0</td>\n",
       "      <td>1.0</td>\n",
       "      <td>0.059447</td>\n",
       "    </tr>\n",
       "    <tr>\n",
       "      <th>248</th>\n",
       "      <td>16.99</td>\n",
       "      <td>0.0</td>\n",
       "      <td>0.0</td>\n",
       "      <td>0.059447</td>\n",
       "    </tr>\n",
       "  </tbody>\n",
       "</table>\n",
       "<p>249 rows × 4 columns</p>\n",
       "</div>"
      ],
      "text/plain": [
       "     total_bill  day  time  tip_rate\n",
       "0         16.99  3.0   1.0  0.059447\n",
       "1         10.34  3.0   1.0  0.160542\n",
       "2         21.01  3.0   1.0  0.166587\n",
       "3         23.68  3.0   1.0  0.139780\n",
       "4         24.59  3.0   1.0  0.146808\n",
       "..          ...  ...   ...       ...\n",
       "244       16.99  3.0   1.0  0.059447\n",
       "245       16.99  2.0   1.0  0.059447\n",
       "246       16.99  0.0   1.0  0.059447\n",
       "247       16.99  2.0   1.0  0.059447\n",
       "248       16.99  0.0   0.0  0.059447\n",
       "\n",
       "[249 rows x 4 columns]"
      ]
     },
     "execution_count": 20,
     "metadata": {},
     "output_type": "execute_result"
    }
   ],
   "source": [
    "# 랭킹에 따라서 랭킹1위를 제외한 나머지는 숙청\n",
    "df1.drop(['sex','smoker','size'], axis=1)"
   ]
  },
  {
   "cell_type": "markdown",
   "id": "81b07a2d-5213-4e66-9ab9-512fd188bb1a",
   "metadata": {},
   "source": [
    "# PCA = 공분산값을 구해서 아이겐벨류값을 얻어서 그걸 비교해서 위에서 부터 큰값을 리턴\n"
   ]
  },
  {
   "cell_type": "code",
   "execution_count": 24,
   "id": "c1abe581-f5d5-4945-a0aa-4cd3650b8149",
   "metadata": {},
   "outputs": [],
   "source": [
    "from sklearn.decomposition import PCA"
   ]
  },
  {
   "cell_type": "code",
   "execution_count": 25,
   "id": "4d2ce2c7-2d02-4427-87da-7ab2da75361a",
   "metadata": {},
   "outputs": [
    {
     "data": {
      "text/plain": [
       "(249, 7)"
      ]
     },
     "execution_count": 25,
     "metadata": {},
     "output_type": "execute_result"
    }
   ],
   "source": [
    "data_trans.shape"
   ]
  },
  {
   "cell_type": "code",
   "execution_count": 26,
   "id": "3869199e-7c20-4b95-bc69-2ef39766a684",
   "metadata": {},
   "outputs": [],
   "source": [
    "# define the transform\n",
    "trans = PCA(n_components=7)\n",
    "\n",
    "# transform the data\n",
    "X_dim = trans.fit_transform(data_trans)\n"
   ]
  },
  {
   "cell_type": "code",
   "execution_count": 32,
   "id": "83cdcd8f-a05a-42fa-a812-0bb860e35eb5",
   "metadata": {},
   "outputs": [
    {
     "data": {
      "text/html": [
       "<div>\n",
       "<style scoped>\n",
       "    .dataframe tbody tr th:only-of-type {\n",
       "        vertical-align: middle;\n",
       "    }\n",
       "\n",
       "    .dataframe tbody tr th {\n",
       "        vertical-align: top;\n",
       "    }\n",
       "\n",
       "    .dataframe thead th {\n",
       "        text-align: right;\n",
       "    }\n",
       "</style>\n",
       "<table border=\"1\" class=\"dataframe\">\n",
       "  <thead>\n",
       "    <tr style=\"text-align: right;\">\n",
       "      <th></th>\n",
       "      <th>total_bill</th>\n",
       "      <th>sex</th>\n",
       "      <th>smoker</th>\n",
       "      <th>day</th>\n",
       "      <th>time</th>\n",
       "      <th>size</th>\n",
       "      <th>tip_rate</th>\n",
       "    </tr>\n",
       "  </thead>\n",
       "  <tbody>\n",
       "    <tr>\n",
       "      <th>0</th>\n",
       "      <td>-2.744721</td>\n",
       "      <td>-1.293859</td>\n",
       "      <td>-0.385544</td>\n",
       "      <td>-0.716872</td>\n",
       "      <td>0.472551</td>\n",
       "      <td>-0.150171</td>\n",
       "      <td>-0.113937</td>\n",
       "    </tr>\n",
       "    <tr>\n",
       "      <th>1</th>\n",
       "      <td>-9.307505</td>\n",
       "      <td>-1.621448</td>\n",
       "      <td>0.986024</td>\n",
       "      <td>0.035812</td>\n",
       "      <td>-0.299803</td>\n",
       "      <td>-0.090620</td>\n",
       "      <td>-0.027552</td>\n",
       "    </tr>\n",
       "    <tr>\n",
       "      <th>2</th>\n",
       "      <td>1.337007</td>\n",
       "      <td>-1.319279</td>\n",
       "      <td>0.346178</td>\n",
       "      <td>-0.162222</td>\n",
       "      <td>-0.335340</td>\n",
       "      <td>-0.122639</td>\n",
       "      <td>0.005353</td>\n",
       "    </tr>\n",
       "    <tr>\n",
       "      <th>3</th>\n",
       "      <td>3.936999</td>\n",
       "      <td>-1.198487</td>\n",
       "      <td>-0.789368</td>\n",
       "      <td>-0.393075</td>\n",
       "      <td>-0.438280</td>\n",
       "      <td>-0.160389</td>\n",
       "      <td>-0.011742</td>\n",
       "    </tr>\n",
       "    <tr>\n",
       "      <th>4</th>\n",
       "      <td>4.964327</td>\n",
       "      <td>-1.169089</td>\n",
       "      <td>1.109623</td>\n",
       "      <td>-0.495124</td>\n",
       "      <td>0.635585</td>\n",
       "      <td>-0.114444</td>\n",
       "      <td>-0.013445</td>\n",
       "    </tr>\n",
       "    <tr>\n",
       "      <th>...</th>\n",
       "      <td>...</td>\n",
       "      <td>...</td>\n",
       "      <td>...</td>\n",
       "      <td>...</td>\n",
       "      <td>...</td>\n",
       "      <td>...</td>\n",
       "      <td>...</td>\n",
       "    </tr>\n",
       "    <tr>\n",
       "      <th>244</th>\n",
       "      <td>-2.744721</td>\n",
       "      <td>-1.293859</td>\n",
       "      <td>-0.385544</td>\n",
       "      <td>-0.716872</td>\n",
       "      <td>0.472551</td>\n",
       "      <td>-0.150171</td>\n",
       "      <td>-0.113937</td>\n",
       "    </tr>\n",
       "    <tr>\n",
       "      <th>245</th>\n",
       "      <td>-2.696319</td>\n",
       "      <td>-0.493042</td>\n",
       "      <td>0.621057</td>\n",
       "      <td>-0.046833</td>\n",
       "      <td>-0.396710</td>\n",
       "      <td>0.221620</td>\n",
       "      <td>-0.096314</td>\n",
       "    </tr>\n",
       "    <tr>\n",
       "      <th>246</th>\n",
       "      <td>-2.750519</td>\n",
       "      <td>1.480134</td>\n",
       "      <td>0.691834</td>\n",
       "      <td>-0.410993</td>\n",
       "      <td>0.345047</td>\n",
       "      <td>0.865933</td>\n",
       "      <td>-0.070356</td>\n",
       "    </tr>\n",
       "    <tr>\n",
       "      <th>247</th>\n",
       "      <td>-2.696319</td>\n",
       "      <td>-0.493042</td>\n",
       "      <td>0.621057</td>\n",
       "      <td>-0.046833</td>\n",
       "      <td>-0.396710</td>\n",
       "      <td>0.221620</td>\n",
       "      <td>-0.096314</td>\n",
       "    </tr>\n",
       "    <tr>\n",
       "      <th>248</th>\n",
       "      <td>-2.619818</td>\n",
       "      <td>1.645272</td>\n",
       "      <td>2.495923</td>\n",
       "      <td>1.239355</td>\n",
       "      <td>0.015425</td>\n",
       "      <td>-0.064953</td>\n",
       "      <td>-0.115720</td>\n",
       "    </tr>\n",
       "  </tbody>\n",
       "</table>\n",
       "<p>249 rows × 7 columns</p>\n",
       "</div>"
      ],
      "text/plain": [
       "     total_bill       sex    smoker       day      time      size  tip_rate\n",
       "0     -2.744721 -1.293859 -0.385544 -0.716872  0.472551 -0.150171 -0.113937\n",
       "1     -9.307505 -1.621448  0.986024  0.035812 -0.299803 -0.090620 -0.027552\n",
       "2      1.337007 -1.319279  0.346178 -0.162222 -0.335340 -0.122639  0.005353\n",
       "3      3.936999 -1.198487 -0.789368 -0.393075 -0.438280 -0.160389 -0.011742\n",
       "4      4.964327 -1.169089  1.109623 -0.495124  0.635585 -0.114444 -0.013445\n",
       "..          ...       ...       ...       ...       ...       ...       ...\n",
       "244   -2.744721 -1.293859 -0.385544 -0.716872  0.472551 -0.150171 -0.113937\n",
       "245   -2.696319 -0.493042  0.621057 -0.046833 -0.396710  0.221620 -0.096314\n",
       "246   -2.750519  1.480134  0.691834 -0.410993  0.345047  0.865933 -0.070356\n",
       "247   -2.696319 -0.493042  0.621057 -0.046833 -0.396710  0.221620 -0.096314\n",
       "248   -2.619818  1.645272  2.495923  1.239355  0.015425 -0.064953 -0.115720\n",
       "\n",
       "[249 rows x 7 columns]"
      ]
     },
     "execution_count": 32,
     "metadata": {},
     "output_type": "execute_result"
    }
   ],
   "source": [
    "# 다시 데이터프레임으로 봐버리기\n",
    "df2 = pd.DataFrame(pd.DataFrame(X_dim, columns=['total_bill','sex','smoker','day','time','size','tip_rate']))\n",
    "df2"
   ]
  },
  {
   "cell_type": "markdown",
   "id": "26456411-77e7-4b49-9aeb-1a0a854d9b99",
   "metadata": {},
   "source": [
    "StandardScaler"
   ]
  },
  {
   "cell_type": "code",
   "execution_count": 369,
   "id": "e86c111d-80b1-44db-b476-88b40b1d07b1",
   "metadata": {},
   "outputs": [
    {
     "data": {
      "text/html": [
       "<div>\n",
       "<style scoped>\n",
       "    .dataframe tbody tr th:only-of-type {\n",
       "        vertical-align: middle;\n",
       "    }\n",
       "\n",
       "    .dataframe tbody tr th {\n",
       "        vertical-align: top;\n",
       "    }\n",
       "\n",
       "    .dataframe thead th {\n",
       "        text-align: right;\n",
       "    }\n",
       "</style>\n",
       "<table border=\"1\" class=\"dataframe\">\n",
       "  <thead>\n",
       "    <tr style=\"text-align: right;\">\n",
       "      <th></th>\n",
       "      <th>0</th>\n",
       "      <th>1</th>\n",
       "      <th>2</th>\n",
       "      <th>3</th>\n",
       "    </tr>\n",
       "  </thead>\n",
       "  <tbody>\n",
       "    <tr>\n",
       "      <th>0</th>\n",
       "      <td>1.000000e+00</td>\n",
       "      <td>2.076775e-17</td>\n",
       "      <td>2.067356e-18</td>\n",
       "      <td>1.860237e-17</td>\n",
       "    </tr>\n",
       "    <tr>\n",
       "      <th>1</th>\n",
       "      <td>2.076775e-17</td>\n",
       "      <td>1.000000e+00</td>\n",
       "      <td>-4.346025e-16</td>\n",
       "      <td>-3.005123e-16</td>\n",
       "    </tr>\n",
       "    <tr>\n",
       "      <th>2</th>\n",
       "      <td>2.067356e-18</td>\n",
       "      <td>-4.346025e-16</td>\n",
       "      <td>1.000000e+00</td>\n",
       "      <td>-2.635664e-16</td>\n",
       "    </tr>\n",
       "    <tr>\n",
       "      <th>3</th>\n",
       "      <td>1.860237e-17</td>\n",
       "      <td>-3.005123e-16</td>\n",
       "      <td>-2.635664e-16</td>\n",
       "      <td>1.000000e+00</td>\n",
       "    </tr>\n",
       "  </tbody>\n",
       "</table>\n",
       "</div>"
      ],
      "text/plain": [
       "              0             1             2             3\n",
       "0  1.000000e+00  2.076775e-17  2.067356e-18  1.860237e-17\n",
       "1  2.076775e-17  1.000000e+00 -4.346025e-16 -3.005123e-16\n",
       "2  2.067356e-18 -4.346025e-16  1.000000e+00 -2.635664e-16\n",
       "3  1.860237e-17 -3.005123e-16 -2.635664e-16  1.000000e+00"
      ]
     },
     "execution_count": 369,
     "metadata": {},
     "output_type": "execute_result"
    }
   ],
   "source": [
    "df2.corr()"
   ]
  },
  {
   "cell_type": "markdown",
   "id": "0cc6be7e-7e38-4cf9-a4d2-f499dbaac5a3",
   "metadata": {},
   "source": [
    "# Regression Feature Selection"
   ]
  },
  {
   "cell_type": "code",
   "execution_count": 294,
   "id": "cdfae192-2f45-4950-8b45-e7a3f44f4548",
   "metadata": {},
   "outputs": [],
   "source": [
    "from sklearn.feature_selection import SelectKBest\n",
    "from sklearn.feature_selection import f_regression"
   ]
  },
  {
   "cell_type": "code",
   "execution_count": 295,
   "id": "899fde75-28ed-4d54-a21a-c1551cd55b2c",
   "metadata": {},
   "outputs": [
    {
     "name": "stdout",
     "output_type": "stream",
     "text": [
      "(249, 4)\n"
     ]
    }
   ],
   "source": [
    "fs = SelectKBest(score_func=f_regression, k=4)\n",
    "# apply feature selection\n",
    "X_selected = fs.fit_transform(df1, y)\n",
    "\n",
    "print(X_selected.shape)"
   ]
  },
  {
   "cell_type": "code",
   "execution_count": 296,
   "id": "20e7af91-12ac-4433-9a91-90ef66a089db",
   "metadata": {},
   "outputs": [],
   "source": [
    "df3 = pd.DataFrame(X_selected)"
   ]
  },
  {
   "cell_type": "code",
   "execution_count": 297,
   "id": "8e5a7d66-6b03-4ab5-accc-be50a21c92c6",
   "metadata": {},
   "outputs": [
    {
     "data": {
      "text/html": [
       "<div>\n",
       "<style scoped>\n",
       "    .dataframe tbody tr th:only-of-type {\n",
       "        vertical-align: middle;\n",
       "    }\n",
       "\n",
       "    .dataframe tbody tr th {\n",
       "        vertical-align: top;\n",
       "    }\n",
       "\n",
       "    .dataframe thead th {\n",
       "        text-align: right;\n",
       "    }\n",
       "</style>\n",
       "<table border=\"1\" class=\"dataframe\">\n",
       "  <thead>\n",
       "    <tr style=\"text-align: right;\">\n",
       "      <th></th>\n",
       "      <th>0</th>\n",
       "      <th>1</th>\n",
       "      <th>2</th>\n",
       "      <th>3</th>\n",
       "    </tr>\n",
       "  </thead>\n",
       "  <tbody>\n",
       "    <tr>\n",
       "      <th>0</th>\n",
       "      <td>16.99</td>\n",
       "      <td>3.0</td>\n",
       "      <td>2.0</td>\n",
       "      <td>0.059447</td>\n",
       "    </tr>\n",
       "    <tr>\n",
       "      <th>1</th>\n",
       "      <td>10.34</td>\n",
       "      <td>3.0</td>\n",
       "      <td>3.0</td>\n",
       "      <td>0.160542</td>\n",
       "    </tr>\n",
       "    <tr>\n",
       "      <th>2</th>\n",
       "      <td>21.01</td>\n",
       "      <td>3.0</td>\n",
       "      <td>3.0</td>\n",
       "      <td>0.166587</td>\n",
       "    </tr>\n",
       "    <tr>\n",
       "      <th>3</th>\n",
       "      <td>23.68</td>\n",
       "      <td>3.0</td>\n",
       "      <td>2.0</td>\n",
       "      <td>0.139780</td>\n",
       "    </tr>\n",
       "    <tr>\n",
       "      <th>4</th>\n",
       "      <td>24.59</td>\n",
       "      <td>3.0</td>\n",
       "      <td>4.0</td>\n",
       "      <td>0.146808</td>\n",
       "    </tr>\n",
       "    <tr>\n",
       "      <th>...</th>\n",
       "      <td>...</td>\n",
       "      <td>...</td>\n",
       "      <td>...</td>\n",
       "      <td>...</td>\n",
       "    </tr>\n",
       "    <tr>\n",
       "      <th>244</th>\n",
       "      <td>16.99</td>\n",
       "      <td>3.0</td>\n",
       "      <td>2.0</td>\n",
       "      <td>0.059447</td>\n",
       "    </tr>\n",
       "    <tr>\n",
       "      <th>245</th>\n",
       "      <td>16.99</td>\n",
       "      <td>2.0</td>\n",
       "      <td>3.0</td>\n",
       "      <td>0.059447</td>\n",
       "    </tr>\n",
       "    <tr>\n",
       "      <th>246</th>\n",
       "      <td>16.99</td>\n",
       "      <td>0.0</td>\n",
       "      <td>3.0</td>\n",
       "      <td>0.059447</td>\n",
       "    </tr>\n",
       "    <tr>\n",
       "      <th>247</th>\n",
       "      <td>16.99</td>\n",
       "      <td>2.0</td>\n",
       "      <td>3.0</td>\n",
       "      <td>0.059447</td>\n",
       "    </tr>\n",
       "    <tr>\n",
       "      <th>248</th>\n",
       "      <td>16.99</td>\n",
       "      <td>0.0</td>\n",
       "      <td>5.0</td>\n",
       "      <td>0.059447</td>\n",
       "    </tr>\n",
       "  </tbody>\n",
       "</table>\n",
       "<p>249 rows × 4 columns</p>\n",
       "</div>"
      ],
      "text/plain": [
       "         0    1    2         3\n",
       "0    16.99  3.0  2.0  0.059447\n",
       "1    10.34  3.0  3.0  0.160542\n",
       "2    21.01  3.0  3.0  0.166587\n",
       "3    23.68  3.0  2.0  0.139780\n",
       "4    24.59  3.0  4.0  0.146808\n",
       "..     ...  ...  ...       ...\n",
       "244  16.99  3.0  2.0  0.059447\n",
       "245  16.99  2.0  3.0  0.059447\n",
       "246  16.99  0.0  3.0  0.059447\n",
       "247  16.99  2.0  3.0  0.059447\n",
       "248  16.99  0.0  5.0  0.059447\n",
       "\n",
       "[249 rows x 4 columns]"
      ]
     },
     "execution_count": 297,
     "metadata": {},
     "output_type": "execute_result"
    }
   ],
   "source": [
    "df3"
   ]
  }
 ],
 "metadata": {
  "kernelspec": {
   "display_name": "Python Multi",
   "language": "python",
   "name": "multi"
  },
  "language_info": {
   "codemirror_mode": {
    "name": "ipython",
    "version": 3
   },
   "file_extension": ".py",
   "mimetype": "text/x-python",
   "name": "python",
   "nbconvert_exporter": "python",
   "pygments_lexer": "ipython3",
   "version": "3.8.8"
  }
 },
 "nbformat": 4,
 "nbformat_minor": 5
}
