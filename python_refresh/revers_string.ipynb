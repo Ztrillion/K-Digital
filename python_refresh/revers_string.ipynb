{
 "cells": [
  {
   "cell_type": "code",
   "execution_count": 43,
   "metadata": {},
   "outputs": [
    {
     "name": "stdout",
     "output_type": "stream",
     "text": [
      "문자입력\n",
      "뒤집으면 : 녕안\n"
     ]
    }
   ],
   "source": [
    "# for문 활용\n",
    "\n",
    "string_input = input(print('문자입력'))\n",
    "revers_input = ''\n",
    "for c in string_input: \n",
    "    revers_input = c + revers_input\n",
    "\n",
    "print('뒤집으면 :' ,revers_input)\n"
   ]
  },
  {
   "cell_type": "code",
   "execution_count": 42,
   "metadata": {},
   "outputs": [
    {
     "name": "stdout",
     "output_type": "stream",
     "text": [
      "문자입력\n",
      "녕안\n"
     ]
    }
   ],
   "source": [
    "# 슬라이싱\n",
    "name = input(print('문자입력'))\n",
    "print(name[::-1])"
   ]
  },
  {
   "cell_type": "code",
   "execution_count": null,
   "metadata": {},
   "outputs": [],
   "source": []
  }
 ],
 "metadata": {
  "interpreter": {
   "hash": "374be8c39ae01ff66328729506a9b9a7ba9eb3f2df141c8f3098ad96d8cc6bdd"
  },
  "kernelspec": {
   "display_name": "Python 3.8.12 ('base')",
   "language": "python",
   "name": "python3"
  },
  "language_info": {
   "codemirror_mode": {
    "name": "ipython",
    "version": 3
   },
   "file_extension": ".py",
   "mimetype": "text/x-python",
   "name": "python",
   "nbconvert_exporter": "python",
   "pygments_lexer": "ipython3",
   "version": "3.8.12"
  },
  "orig_nbformat": 4
 },
 "nbformat": 4,
 "nbformat_minor": 2
}
