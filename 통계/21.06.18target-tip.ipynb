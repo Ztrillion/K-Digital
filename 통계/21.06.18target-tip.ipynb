{
 "cells": [
  {
   "cell_type": "markdown",
   "id": "445842fb-1429-4eaf-a1e6-b2c36fe63527",
   "metadata": {},
   "source": [
    "# target : tip"
   ]
  },
  {
   "cell_type": "code",
   "execution_count": 1,
   "id": "polished-somerset",
   "metadata": {},
   "outputs": [],
   "source": [
    "import pymysql.cursors\n",
    "import pandas as pd\n",
    "\n",
    "# 불러오기\n",
    "conn = pymysql.connect(host='localhost', user='zeros', \n",
    "                       password='160525', db='tip', charset='utf8',\n",
    "                       autocommit=True, cursorclass=pymysql.cursors.DictCursor)\n",
    "try:\n",
    "    with conn.cursor() as curs:\n",
    "        sql = \"select * from tips;\"\n",
    "        curs.execute(sql)\n",
    "        rs = curs.fetchall()\n",
    "        df = pd.DataFrame(rs)\n",
    "finally:\n",
    "    conn.close()"
   ]
  },
  {
   "cell_type": "markdown",
   "id": "03ab57f5-9569-4adf-9c5c-71c5b5563ad4",
   "metadata": {},
   "source": [
    "# encoding"
   ]
  },
  {
   "cell_type": "code",
   "execution_count": 2,
   "id": "e5c15730-999e-4423-8c9e-7494267c58b6",
   "metadata": {},
   "outputs": [],
   "source": [
    "df[\"sex\"] = df[\"sex\"].replace({\"Female\" : 0, \"Male\" : 1})\n",
    "df[\"smoker\"] = df[\"smoker\"].replace({\"No\" : 0, \"Yes\" : 1})\n",
    "df[\"day\"] = df[\"day\"].replace({\"Thur\" : 0, \"Fri\" : 1, \"Sat\" : 2, \"Sun\" : 3})\n",
    "df[\"time\"] = df[\"time\"].replace({\"Lunch\" : 0, \"Dinner\" : 1})\n",
    "df['tip_rate']= df['tip']/df['total_bill']"
   ]
  },
  {
   "cell_type": "code",
   "execution_count": 3,
   "id": "096bbbd5-662a-48b4-b5cc-2a01d0e22759",
   "metadata": {},
   "outputs": [
    {
     "data": {
      "text/html": [
       "<div>\n",
       "<style scoped>\n",
       "    .dataframe tbody tr th:only-of-type {\n",
       "        vertical-align: middle;\n",
       "    }\n",
       "\n",
       "    .dataframe tbody tr th {\n",
       "        vertical-align: top;\n",
       "    }\n",
       "\n",
       "    .dataframe thead th {\n",
       "        text-align: right;\n",
       "    }\n",
       "</style>\n",
       "<table border=\"1\" class=\"dataframe\">\n",
       "  <thead>\n",
       "    <tr style=\"text-align: right;\">\n",
       "      <th></th>\n",
       "      <th>total_bill</th>\n",
       "      <th>tip</th>\n",
       "      <th>sex</th>\n",
       "      <th>smoker</th>\n",
       "      <th>day</th>\n",
       "      <th>time</th>\n",
       "      <th>size</th>\n",
       "      <th>tip_rate</th>\n",
       "    </tr>\n",
       "  </thead>\n",
       "  <tbody>\n",
       "    <tr>\n",
       "      <th>0</th>\n",
       "      <td>16.99</td>\n",
       "      <td>1.01</td>\n",
       "      <td>0.0</td>\n",
       "      <td>0</td>\n",
       "      <td>3.0</td>\n",
       "      <td>1.0</td>\n",
       "      <td>2</td>\n",
       "      <td>0.059447</td>\n",
       "    </tr>\n",
       "    <tr>\n",
       "      <th>1</th>\n",
       "      <td>10.34</td>\n",
       "      <td>1.66</td>\n",
       "      <td>1.0</td>\n",
       "      <td>0</td>\n",
       "      <td>3.0</td>\n",
       "      <td>1.0</td>\n",
       "      <td>3</td>\n",
       "      <td>0.160542</td>\n",
       "    </tr>\n",
       "    <tr>\n",
       "      <th>2</th>\n",
       "      <td>21.01</td>\n",
       "      <td>3.50</td>\n",
       "      <td>1.0</td>\n",
       "      <td>0</td>\n",
       "      <td>3.0</td>\n",
       "      <td>1.0</td>\n",
       "      <td>3</td>\n",
       "      <td>0.166587</td>\n",
       "    </tr>\n",
       "    <tr>\n",
       "      <th>3</th>\n",
       "      <td>23.68</td>\n",
       "      <td>3.31</td>\n",
       "      <td>1.0</td>\n",
       "      <td>0</td>\n",
       "      <td>3.0</td>\n",
       "      <td>1.0</td>\n",
       "      <td>2</td>\n",
       "      <td>0.139780</td>\n",
       "    </tr>\n",
       "    <tr>\n",
       "      <th>4</th>\n",
       "      <td>24.59</td>\n",
       "      <td>3.61</td>\n",
       "      <td>0.0</td>\n",
       "      <td>0</td>\n",
       "      <td>3.0</td>\n",
       "      <td>1.0</td>\n",
       "      <td>4</td>\n",
       "      <td>0.146808</td>\n",
       "    </tr>\n",
       "    <tr>\n",
       "      <th>...</th>\n",
       "      <td>...</td>\n",
       "      <td>...</td>\n",
       "      <td>...</td>\n",
       "      <td>...</td>\n",
       "      <td>...</td>\n",
       "      <td>...</td>\n",
       "      <td>...</td>\n",
       "      <td>...</td>\n",
       "    </tr>\n",
       "    <tr>\n",
       "      <th>244</th>\n",
       "      <td>16.99</td>\n",
       "      <td>1.01</td>\n",
       "      <td>0.0</td>\n",
       "      <td>0</td>\n",
       "      <td>3.0</td>\n",
       "      <td>1.0</td>\n",
       "      <td>2</td>\n",
       "      <td>0.059447</td>\n",
       "    </tr>\n",
       "    <tr>\n",
       "      <th>245</th>\n",
       "      <td>16.99</td>\n",
       "      <td>1.01</td>\n",
       "      <td>1.0</td>\n",
       "      <td>0</td>\n",
       "      <td>2.0</td>\n",
       "      <td>NaN</td>\n",
       "      <td>3</td>\n",
       "      <td>0.059447</td>\n",
       "    </tr>\n",
       "    <tr>\n",
       "      <th>246</th>\n",
       "      <td>16.99</td>\n",
       "      <td>1.01</td>\n",
       "      <td>0.0</td>\n",
       "      <td>0</td>\n",
       "      <td>0.0</td>\n",
       "      <td>NaN</td>\n",
       "      <td>3</td>\n",
       "      <td>0.059447</td>\n",
       "    </tr>\n",
       "    <tr>\n",
       "      <th>247</th>\n",
       "      <td>16.99</td>\n",
       "      <td>1.01</td>\n",
       "      <td>1.0</td>\n",
       "      <td>0</td>\n",
       "      <td>NaN</td>\n",
       "      <td>1.0</td>\n",
       "      <td>3</td>\n",
       "      <td>0.059447</td>\n",
       "    </tr>\n",
       "    <tr>\n",
       "      <th>248</th>\n",
       "      <td>16.99</td>\n",
       "      <td>1.01</td>\n",
       "      <td>NaN</td>\n",
       "      <td>1</td>\n",
       "      <td>0.0</td>\n",
       "      <td>0.0</td>\n",
       "      <td>5</td>\n",
       "      <td>0.059447</td>\n",
       "    </tr>\n",
       "  </tbody>\n",
       "</table>\n",
       "<p>249 rows × 8 columns</p>\n",
       "</div>"
      ],
      "text/plain": [
       "     total_bill   tip  sex  smoker  day  time  size  tip_rate\n",
       "0         16.99  1.01  0.0       0  3.0   1.0     2  0.059447\n",
       "1         10.34  1.66  1.0       0  3.0   1.0     3  0.160542\n",
       "2         21.01  3.50  1.0       0  3.0   1.0     3  0.166587\n",
       "3         23.68  3.31  1.0       0  3.0   1.0     2  0.139780\n",
       "4         24.59  3.61  0.0       0  3.0   1.0     4  0.146808\n",
       "..          ...   ...  ...     ...  ...   ...   ...       ...\n",
       "244       16.99  1.01  0.0       0  3.0   1.0     2  0.059447\n",
       "245       16.99  1.01  1.0       0  2.0   NaN     3  0.059447\n",
       "246       16.99  1.01  0.0       0  0.0   NaN     3  0.059447\n",
       "247       16.99  1.01  1.0       0  NaN   1.0     3  0.059447\n",
       "248       16.99  1.01  NaN       1  0.0   0.0     5  0.059447\n",
       "\n",
       "[249 rows x 8 columns]"
      ]
     },
     "execution_count": 3,
     "metadata": {},
     "output_type": "execute_result"
    }
   ],
   "source": [
    "df"
   ]
  },
  {
   "cell_type": "code",
   "execution_count": 4,
   "id": "0e486709-5935-446e-82a4-775b1ef957d9",
   "metadata": {},
   "outputs": [
    {
     "data": {
      "text/plain": [
       "total_bill    0\n",
       "tip           0\n",
       "sex           1\n",
       "smoker        0\n",
       "day           1\n",
       "time          2\n",
       "size          0\n",
       "tip_rate      0\n",
       "dtype: int64"
      ]
     },
     "execution_count": 4,
     "metadata": {},
     "output_type": "execute_result"
    }
   ],
   "source": [
    "df.isnull().sum()"
   ]
  },
  {
   "cell_type": "markdown",
   "id": "e0e9ab5b-5d5f-44ea-b77e-5d422af0d915",
   "metadata": {},
   "source": [
    "# null값 처리"
   ]
  },
  {
   "cell_type": "code",
   "execution_count": 5,
   "id": "faf284f7-8539-4cd9-8da4-4453f2ac048a",
   "metadata": {},
   "outputs": [],
   "source": [
    "from numpy import isnan\n",
    "from sklearn.impute import SimpleImputer"
   ]
  },
  {
   "cell_type": "code",
   "execution_count": 6,
   "id": "c81314fd-80bc-4cda-8b21-9c1a2834d66e",
   "metadata": {},
   "outputs": [],
   "source": [
    "# y=타겟\n",
    "y = df['tip']\n",
    "X = df.drop('tip',axis=1) #학습할 x에서 tip을 드랍"
   ]
  },
  {
   "cell_type": "code",
   "execution_count": 7,
   "id": "2db45397-a2d7-4ab4-884a-92b6d3886f3d",
   "metadata": {},
   "outputs": [],
   "source": [
    "data = X.values\n",
    "y = y.values"
   ]
  },
  {
   "cell_type": "code",
   "execution_count": 8,
   "id": "0d0be9a3-69df-443a-b5cc-c052226ea1b8",
   "metadata": {},
   "outputs": [
    {
     "data": {
      "text/plain": [
       "(4, 0)"
      ]
     },
     "execution_count": 8,
     "metadata": {},
     "output_type": "execute_result"
    }
   ],
   "source": [
    "#NULL값 확인\n",
    "sum(isnan(data).flatten()), sum(isnan(y).flatten())"
   ]
  },
  {
   "cell_type": "code",
   "execution_count": 9,
   "id": "14cf33c2-0b2e-47fe-8d4b-4adfb0cb8956",
   "metadata": {},
   "outputs": [
    {
     "data": {
      "text/plain": [
       "SimpleImputer(strategy='median')"
      ]
     },
     "execution_count": 9,
     "metadata": {},
     "output_type": "execute_result"
    }
   ],
   "source": [
    "#IMPUTED DATA SET(널없는 데이터)\n",
    "imputer = SimpleImputer(strategy='median')\n",
    "imputer.fit(data)"
   ]
  },
  {
   "cell_type": "code",
   "execution_count": 10,
   "id": "d83ea1a0-f27b-4f4f-b777-36617c13c162",
   "metadata": {},
   "outputs": [
    {
     "data": {
      "text/plain": [
       "SimpleImputer(strategy='median')"
      ]
     },
     "execution_count": 10,
     "metadata": {},
     "output_type": "execute_result"
    }
   ],
   "source": [
    "imputer"
   ]
  },
  {
   "cell_type": "code",
   "execution_count": 11,
   "id": "3f5d6b45-d28b-4cbe-ac5a-d5de39ac5a73",
   "metadata": {},
   "outputs": [],
   "source": [
    "data_trans = imputer.transform(data) "
   ]
  },
  {
   "cell_type": "code",
   "execution_count": 12,
   "id": "f1fca623-b601-46c2-8a72-e67d251af9ff",
   "metadata": {},
   "outputs": [
    {
     "data": {
      "text/plain": [
       "array([[16.99      ,  0.        ,  0.        , ...,  1.        ,\n",
       "         2.        ,  0.05944673],\n",
       "       [10.34      ,  1.        ,  0.        , ...,  1.        ,\n",
       "         3.        ,  0.16054159],\n",
       "       [21.01      ,  1.        ,  0.        , ...,  1.        ,\n",
       "         3.        ,  0.16658734],\n",
       "       ...,\n",
       "       [16.99      ,  0.        ,  0.        , ...,  1.        ,\n",
       "         3.        ,  0.05944673],\n",
       "       [16.99      ,  1.        ,  0.        , ...,  1.        ,\n",
       "         3.        ,  0.05944673],\n",
       "       [16.99      ,  1.        ,  1.        , ...,  0.        ,\n",
       "         5.        ,  0.05944673]])"
      ]
     },
     "execution_count": 12,
     "metadata": {},
     "output_type": "execute_result"
    }
   ],
   "source": [
    "data_trans"
   ]
  },
  {
   "cell_type": "code",
   "execution_count": 13,
   "id": "cb6b3afa-d342-4533-b395-9b20bc1f3cd7",
   "metadata": {},
   "outputs": [],
   "source": [
    "df1 = pd.DataFrame(data_trans, columns=['total_bill','sex','smoker','day','time','size','tip_rate'])"
   ]
  },
  {
   "cell_type": "code",
   "execution_count": 14,
   "id": "2e5a4c46-2430-4aeb-9d51-f6a3853e4040",
   "metadata": {},
   "outputs": [
    {
     "data": {
      "text/plain": [
       "total_bill    0\n",
       "sex           0\n",
       "smoker        0\n",
       "day           0\n",
       "time          0\n",
       "size          0\n",
       "tip_rate      0\n",
       "dtype: int64"
      ]
     },
     "execution_count": 14,
     "metadata": {},
     "output_type": "execute_result"
    }
   ],
   "source": [
    "df1.isnull().sum()"
   ]
  },
  {
   "cell_type": "code",
   "execution_count": 15,
   "id": "f149fd4f-6c69-49dd-9b6a-6981657641fc",
   "metadata": {},
   "outputs": [
    {
     "data": {
      "text/html": [
       "<div>\n",
       "<style scoped>\n",
       "    .dataframe tbody tr th:only-of-type {\n",
       "        vertical-align: middle;\n",
       "    }\n",
       "\n",
       "    .dataframe tbody tr th {\n",
       "        vertical-align: top;\n",
       "    }\n",
       "\n",
       "    .dataframe thead th {\n",
       "        text-align: right;\n",
       "    }\n",
       "</style>\n",
       "<table border=\"1\" class=\"dataframe\">\n",
       "  <thead>\n",
       "    <tr style=\"text-align: right;\">\n",
       "      <th></th>\n",
       "      <th>total_bill</th>\n",
       "      <th>sex</th>\n",
       "      <th>smoker</th>\n",
       "      <th>day</th>\n",
       "      <th>time</th>\n",
       "      <th>size</th>\n",
       "      <th>tip_rate</th>\n",
       "    </tr>\n",
       "  </thead>\n",
       "  <tbody>\n",
       "    <tr>\n",
       "      <th>0</th>\n",
       "      <td>16.99</td>\n",
       "      <td>0.0</td>\n",
       "      <td>0.0</td>\n",
       "      <td>3.0</td>\n",
       "      <td>1.0</td>\n",
       "      <td>2.0</td>\n",
       "      <td>0.059447</td>\n",
       "    </tr>\n",
       "    <tr>\n",
       "      <th>1</th>\n",
       "      <td>10.34</td>\n",
       "      <td>1.0</td>\n",
       "      <td>0.0</td>\n",
       "      <td>3.0</td>\n",
       "      <td>1.0</td>\n",
       "      <td>3.0</td>\n",
       "      <td>0.160542</td>\n",
       "    </tr>\n",
       "    <tr>\n",
       "      <th>2</th>\n",
       "      <td>21.01</td>\n",
       "      <td>1.0</td>\n",
       "      <td>0.0</td>\n",
       "      <td>3.0</td>\n",
       "      <td>1.0</td>\n",
       "      <td>3.0</td>\n",
       "      <td>0.166587</td>\n",
       "    </tr>\n",
       "    <tr>\n",
       "      <th>3</th>\n",
       "      <td>23.68</td>\n",
       "      <td>1.0</td>\n",
       "      <td>0.0</td>\n",
       "      <td>3.0</td>\n",
       "      <td>1.0</td>\n",
       "      <td>2.0</td>\n",
       "      <td>0.139780</td>\n",
       "    </tr>\n",
       "    <tr>\n",
       "      <th>4</th>\n",
       "      <td>24.59</td>\n",
       "      <td>0.0</td>\n",
       "      <td>0.0</td>\n",
       "      <td>3.0</td>\n",
       "      <td>1.0</td>\n",
       "      <td>4.0</td>\n",
       "      <td>0.146808</td>\n",
       "    </tr>\n",
       "    <tr>\n",
       "      <th>...</th>\n",
       "      <td>...</td>\n",
       "      <td>...</td>\n",
       "      <td>...</td>\n",
       "      <td>...</td>\n",
       "      <td>...</td>\n",
       "      <td>...</td>\n",
       "      <td>...</td>\n",
       "    </tr>\n",
       "    <tr>\n",
       "      <th>244</th>\n",
       "      <td>16.99</td>\n",
       "      <td>0.0</td>\n",
       "      <td>0.0</td>\n",
       "      <td>3.0</td>\n",
       "      <td>1.0</td>\n",
       "      <td>2.0</td>\n",
       "      <td>0.059447</td>\n",
       "    </tr>\n",
       "    <tr>\n",
       "      <th>245</th>\n",
       "      <td>16.99</td>\n",
       "      <td>1.0</td>\n",
       "      <td>0.0</td>\n",
       "      <td>2.0</td>\n",
       "      <td>1.0</td>\n",
       "      <td>3.0</td>\n",
       "      <td>0.059447</td>\n",
       "    </tr>\n",
       "    <tr>\n",
       "      <th>246</th>\n",
       "      <td>16.99</td>\n",
       "      <td>0.0</td>\n",
       "      <td>0.0</td>\n",
       "      <td>0.0</td>\n",
       "      <td>1.0</td>\n",
       "      <td>3.0</td>\n",
       "      <td>0.059447</td>\n",
       "    </tr>\n",
       "    <tr>\n",
       "      <th>247</th>\n",
       "      <td>16.99</td>\n",
       "      <td>1.0</td>\n",
       "      <td>0.0</td>\n",
       "      <td>2.0</td>\n",
       "      <td>1.0</td>\n",
       "      <td>3.0</td>\n",
       "      <td>0.059447</td>\n",
       "    </tr>\n",
       "    <tr>\n",
       "      <th>248</th>\n",
       "      <td>16.99</td>\n",
       "      <td>1.0</td>\n",
       "      <td>1.0</td>\n",
       "      <td>0.0</td>\n",
       "      <td>0.0</td>\n",
       "      <td>5.0</td>\n",
       "      <td>0.059447</td>\n",
       "    </tr>\n",
       "  </tbody>\n",
       "</table>\n",
       "<p>249 rows × 7 columns</p>\n",
       "</div>"
      ],
      "text/plain": [
       "     total_bill  sex  smoker  day  time  size  tip_rate\n",
       "0         16.99  0.0     0.0  3.0   1.0   2.0  0.059447\n",
       "1         10.34  1.0     0.0  3.0   1.0   3.0  0.160542\n",
       "2         21.01  1.0     0.0  3.0   1.0   3.0  0.166587\n",
       "3         23.68  1.0     0.0  3.0   1.0   2.0  0.139780\n",
       "4         24.59  0.0     0.0  3.0   1.0   4.0  0.146808\n",
       "..          ...  ...     ...  ...   ...   ...       ...\n",
       "244       16.99  0.0     0.0  3.0   1.0   2.0  0.059447\n",
       "245       16.99  1.0     0.0  2.0   1.0   3.0  0.059447\n",
       "246       16.99  0.0     0.0  0.0   1.0   3.0  0.059447\n",
       "247       16.99  1.0     0.0  2.0   1.0   3.0  0.059447\n",
       "248       16.99  1.0     1.0  0.0   0.0   5.0  0.059447\n",
       "\n",
       "[249 rows x 7 columns]"
      ]
     },
     "execution_count": 15,
     "metadata": {},
     "output_type": "execute_result"
    }
   ],
   "source": [
    "df1"
   ]
  },
  {
   "cell_type": "markdown",
   "id": "0cf00b00-6bc5-446a-a443-327c83050945",
   "metadata": {},
   "source": [
    "# RFE\n",
    "- 중요도가 낮은 변수를 제거하는 방식."
   ]
  },
  {
   "cell_type": "code",
   "execution_count": 16,
   "id": "172eee4f-0e3e-4196-a2d6-d7027abb4784",
   "metadata": {},
   "outputs": [],
   "source": [
    "from sklearn.feature_selection import RFE\n",
    "from sklearn.svm import SVR\n",
    "# 타겟변수가 뉴메릭 이라서 svr을 사용(suport vector regression)"
   ]
  },
  {
   "cell_type": "code",
   "execution_count": 17,
   "id": "ad7cbdc4-8358-44c8-bd82-e53648f9af29",
   "metadata": {},
   "outputs": [],
   "source": [
    "rfe = RFE(estimator=SVR(kernel=\"linear\"), n_features_to_select=4)"
   ]
  },
  {
   "cell_type": "code",
   "execution_count": 18,
   "id": "367b0580-2848-41ec-8f0a-ca1c2043539f",
   "metadata": {},
   "outputs": [
    {
     "data": {
      "text/plain": [
       "RFE(estimator=SVR(kernel='linear'), n_features_to_select=4)"
      ]
     },
     "execution_count": 18,
     "metadata": {},
     "output_type": "execute_result"
    }
   ],
   "source": [
    "# fit RFE\n",
    "rfe.fit(df1, y)"
   ]
  },
  {
   "cell_type": "code",
   "execution_count": 19,
   "id": "de0ccc79-9614-4cf2-8667-f0886ada72ff",
   "metadata": {},
   "outputs": [
    {
     "data": {
      "text/plain": [
       "(249, 7)"
      ]
     },
     "execution_count": 19,
     "metadata": {},
     "output_type": "execute_result"
    }
   ],
   "source": [
    "df1.shape"
   ]
  },
  {
   "cell_type": "code",
   "execution_count": 20,
   "id": "67ab7bde-b71a-4ede-8640-6894c5ffefd5",
   "metadata": {},
   "outputs": [
    {
     "name": "stdout",
     "output_type": "stream",
     "text": [
      "Column: 0, Selected=True, Rank: 1\n",
      "Column: 1, Selected=False, Rank: 2\n",
      "Column: 2, Selected=False, Rank: 3\n",
      "Column: 3, Selected=True, Rank: 1\n",
      "Column: 4, Selected=True, Rank: 1\n",
      "Column: 5, Selected=False, Rank: 4\n",
      "Column: 6, Selected=True, Rank: 1\n"
     ]
    }
   ],
   "source": [
    "for i in range(df1.shape[1]):\n",
    "  print('Column: %d, Selected=%s, Rank: %d' % (i, rfe.support_[i], rfe.ranking_[i]))"
   ]
  },
  {
   "cell_type": "code",
   "execution_count": 21,
   "id": "9ff1b649-6546-4511-bc55-29991b249980",
   "metadata": {},
   "outputs": [
    {
     "data": {
      "text/plain": [
       "Index(['total_bill', 'sex', 'smoker', 'day', 'time', 'size', 'tip_rate'], dtype='object')"
      ]
     },
     "execution_count": 21,
     "metadata": {},
     "output_type": "execute_result"
    }
   ],
   "source": [
    "df1.columns"
   ]
  },
  {
   "cell_type": "code",
   "execution_count": 22,
   "id": "f5e34473-e2a2-4725-9f48-1df942531936",
   "metadata": {},
   "outputs": [
    {
     "data": {
      "text/html": [
       "<div>\n",
       "<style scoped>\n",
       "    .dataframe tbody tr th:only-of-type {\n",
       "        vertical-align: middle;\n",
       "    }\n",
       "\n",
       "    .dataframe tbody tr th {\n",
       "        vertical-align: top;\n",
       "    }\n",
       "\n",
       "    .dataframe thead th {\n",
       "        text-align: right;\n",
       "    }\n",
       "</style>\n",
       "<table border=\"1\" class=\"dataframe\">\n",
       "  <thead>\n",
       "    <tr style=\"text-align: right;\">\n",
       "      <th></th>\n",
       "      <th>total_bill</th>\n",
       "      <th>day</th>\n",
       "      <th>time</th>\n",
       "      <th>tip_rate</th>\n",
       "    </tr>\n",
       "  </thead>\n",
       "  <tbody>\n",
       "    <tr>\n",
       "      <th>0</th>\n",
       "      <td>16.99</td>\n",
       "      <td>3.0</td>\n",
       "      <td>1.0</td>\n",
       "      <td>0.059447</td>\n",
       "    </tr>\n",
       "    <tr>\n",
       "      <th>1</th>\n",
       "      <td>10.34</td>\n",
       "      <td>3.0</td>\n",
       "      <td>1.0</td>\n",
       "      <td>0.160542</td>\n",
       "    </tr>\n",
       "    <tr>\n",
       "      <th>2</th>\n",
       "      <td>21.01</td>\n",
       "      <td>3.0</td>\n",
       "      <td>1.0</td>\n",
       "      <td>0.166587</td>\n",
       "    </tr>\n",
       "    <tr>\n",
       "      <th>3</th>\n",
       "      <td>23.68</td>\n",
       "      <td>3.0</td>\n",
       "      <td>1.0</td>\n",
       "      <td>0.139780</td>\n",
       "    </tr>\n",
       "    <tr>\n",
       "      <th>4</th>\n",
       "      <td>24.59</td>\n",
       "      <td>3.0</td>\n",
       "      <td>1.0</td>\n",
       "      <td>0.146808</td>\n",
       "    </tr>\n",
       "    <tr>\n",
       "      <th>...</th>\n",
       "      <td>...</td>\n",
       "      <td>...</td>\n",
       "      <td>...</td>\n",
       "      <td>...</td>\n",
       "    </tr>\n",
       "    <tr>\n",
       "      <th>244</th>\n",
       "      <td>16.99</td>\n",
       "      <td>3.0</td>\n",
       "      <td>1.0</td>\n",
       "      <td>0.059447</td>\n",
       "    </tr>\n",
       "    <tr>\n",
       "      <th>245</th>\n",
       "      <td>16.99</td>\n",
       "      <td>2.0</td>\n",
       "      <td>1.0</td>\n",
       "      <td>0.059447</td>\n",
       "    </tr>\n",
       "    <tr>\n",
       "      <th>246</th>\n",
       "      <td>16.99</td>\n",
       "      <td>0.0</td>\n",
       "      <td>1.0</td>\n",
       "      <td>0.059447</td>\n",
       "    </tr>\n",
       "    <tr>\n",
       "      <th>247</th>\n",
       "      <td>16.99</td>\n",
       "      <td>2.0</td>\n",
       "      <td>1.0</td>\n",
       "      <td>0.059447</td>\n",
       "    </tr>\n",
       "    <tr>\n",
       "      <th>248</th>\n",
       "      <td>16.99</td>\n",
       "      <td>0.0</td>\n",
       "      <td>0.0</td>\n",
       "      <td>0.059447</td>\n",
       "    </tr>\n",
       "  </tbody>\n",
       "</table>\n",
       "<p>249 rows × 4 columns</p>\n",
       "</div>"
      ],
      "text/plain": [
       "     total_bill  day  time  tip_rate\n",
       "0         16.99  3.0   1.0  0.059447\n",
       "1         10.34  3.0   1.0  0.160542\n",
       "2         21.01  3.0   1.0  0.166587\n",
       "3         23.68  3.0   1.0  0.139780\n",
       "4         24.59  3.0   1.0  0.146808\n",
       "..          ...  ...   ...       ...\n",
       "244       16.99  3.0   1.0  0.059447\n",
       "245       16.99  2.0   1.0  0.059447\n",
       "246       16.99  0.0   1.0  0.059447\n",
       "247       16.99  2.0   1.0  0.059447\n",
       "248       16.99  0.0   0.0  0.059447\n",
       "\n",
       "[249 rows x 4 columns]"
      ]
     },
     "execution_count": 22,
     "metadata": {},
     "output_type": "execute_result"
    }
   ],
   "source": [
    "# 랭킹에 따라서 랭크1을 제외한 나머지는 숙청\n",
    "df1.drop(['sex','smoker','size'], axis=1)"
   ]
  },
  {
   "cell_type": "markdown",
   "id": "81b07a2d-5213-4e66-9ab9-512fd188bb1a",
   "metadata": {},
   "source": [
    "# PCA : 차원축소\n",
    " - 각 객체의 igenvalue 표시"
   ]
  },
  {
   "cell_type": "code",
   "execution_count": 59,
   "id": "c1abe581-f5d5-4945-a0aa-4cd3650b8149",
   "metadata": {},
   "outputs": [],
   "source": [
    "from sklearn.decomposition import PCA"
   ]
  },
  {
   "cell_type": "code",
   "execution_count": 60,
   "id": "4d2ce2c7-2d02-4427-87da-7ab2da75361a",
   "metadata": {},
   "outputs": [
    {
     "data": {
      "text/plain": [
       "(249, 8)"
      ]
     },
     "execution_count": 60,
     "metadata": {},
     "output_type": "execute_result"
    }
   ],
   "source": [
    "df.shape"
   ]
  },
  {
   "cell_type": "code",
   "execution_count": 62,
   "id": "3869199e-7c20-4b95-bc69-2ef39766a684",
   "metadata": {},
   "outputs": [],
   "source": [
    "# pca변형을 정의\n",
    "trans = PCA(n_components=7)\n",
    "\n",
    "# 데이터변환\n",
    "X_dim = trans.fit_transform(data_trans)"
   ]
  },
  {
   "cell_type": "code",
   "execution_count": 63,
   "id": "83cdcd8f-a05a-42fa-a812-0bb860e35eb5",
   "metadata": {},
   "outputs": [
    {
     "data": {
      "text/plain": [
       "array([0.968, 0.018, 0.008, 0.003, 0.003, 0.001, 0.   ])"
      ]
     },
     "execution_count": 63,
     "metadata": {},
     "output_type": "execute_result"
    }
   ],
   "source": [
    "# 설명력이 높은 순의 데이터 출력\n",
    "trans.explained_variance_ratio_.round(3)"
   ]
  },
  {
   "cell_type": "markdown",
   "id": "26456411-77e7-4b49-9aeb-1a0a854d9b99",
   "metadata": {},
   "source": [
    "StandardScaler"
   ]
  },
  {
   "cell_type": "code",
   "execution_count": 64,
   "id": "e86c111d-80b1-44db-b476-88b40b1d07b1",
   "metadata": {},
   "outputs": [],
   "source": [
    "# 다시 데이터프레임으로 보기\n",
    "data_pca = pd.DataFrame(X_dim)"
   ]
  },
  {
   "cell_type": "code",
   "execution_count": 65,
   "id": "3de67ca5-07a9-49d0-abda-5f7bc35c4447",
   "metadata": {},
   "outputs": [
    {
     "data": {
      "text/html": [
       "<div>\n",
       "<style scoped>\n",
       "    .dataframe tbody tr th:only-of-type {\n",
       "        vertical-align: middle;\n",
       "    }\n",
       "\n",
       "    .dataframe tbody tr th {\n",
       "        vertical-align: top;\n",
       "    }\n",
       "\n",
       "    .dataframe thead th {\n",
       "        text-align: right;\n",
       "    }\n",
       "</style>\n",
       "<table border=\"1\" class=\"dataframe\">\n",
       "  <thead>\n",
       "    <tr style=\"text-align: right;\">\n",
       "      <th></th>\n",
       "      <th>0</th>\n",
       "      <th>1</th>\n",
       "      <th>2</th>\n",
       "      <th>3</th>\n",
       "      <th>4</th>\n",
       "      <th>5</th>\n",
       "      <th>6</th>\n",
       "    </tr>\n",
       "  </thead>\n",
       "  <tbody>\n",
       "    <tr>\n",
       "      <th>count</th>\n",
       "      <td>249.00</td>\n",
       "      <td>249.00</td>\n",
       "      <td>249.00</td>\n",
       "      <td>249.00</td>\n",
       "      <td>249.00</td>\n",
       "      <td>249.00</td>\n",
       "      <td>249.00</td>\n",
       "    </tr>\n",
       "    <tr>\n",
       "      <th>mean</th>\n",
       "      <td>0.00</td>\n",
       "      <td>0.00</td>\n",
       "      <td>-0.00</td>\n",
       "      <td>-0.00</td>\n",
       "      <td>0.00</td>\n",
       "      <td>0.00</td>\n",
       "      <td>-0.00</td>\n",
       "    </tr>\n",
       "    <tr>\n",
       "      <th>std</th>\n",
       "      <td>8.84</td>\n",
       "      <td>1.21</td>\n",
       "      <td>0.78</td>\n",
       "      <td>0.47</td>\n",
       "      <td>0.46</td>\n",
       "      <td>0.21</td>\n",
       "      <td>0.06</td>\n",
       "    </tr>\n",
       "    <tr>\n",
       "      <th>min</th>\n",
       "      <td>-16.71</td>\n",
       "      <td>-1.64</td>\n",
       "      <td>-2.00</td>\n",
       "      <td>-0.85</td>\n",
       "      <td>-0.73</td>\n",
       "      <td>-0.50</td>\n",
       "      <td>-0.12</td>\n",
       "    </tr>\n",
       "    <tr>\n",
       "      <th>25%</th>\n",
       "      <td>-6.37</td>\n",
       "      <td>-1.10</td>\n",
       "      <td>-0.44</td>\n",
       "      <td>-0.32</td>\n",
       "      <td>-0.40</td>\n",
       "      <td>-0.14</td>\n",
       "      <td>-0.03</td>\n",
       "    </tr>\n",
       "    <tr>\n",
       "      <th>50%</th>\n",
       "      <td>-2.22</td>\n",
       "      <td>-0.40</td>\n",
       "      <td>-0.17</td>\n",
       "      <td>-0.10</td>\n",
       "      <td>-0.06</td>\n",
       "      <td>-0.09</td>\n",
       "      <td>-0.00</td>\n",
       "    </tr>\n",
       "    <tr>\n",
       "      <th>75%</th>\n",
       "      <td>4.38</td>\n",
       "      <td>1.49</td>\n",
       "      <td>0.35</td>\n",
       "      <td>0.32</td>\n",
       "      <td>0.36</td>\n",
       "      <td>0.16</td>\n",
       "      <td>0.03</td>\n",
       "    </tr>\n",
       "    <tr>\n",
       "      <th>max</th>\n",
       "      <td>31.05</td>\n",
       "      <td>2.52</td>\n",
       "      <td>3.07</td>\n",
       "      <td>1.24</td>\n",
       "      <td>1.00</td>\n",
       "      <td>0.87</td>\n",
       "      <td>0.50</td>\n",
       "    </tr>\n",
       "  </tbody>\n",
       "</table>\n",
       "</div>"
      ],
      "text/plain": [
       "            0       1       2       3       4       5       6\n",
       "count  249.00  249.00  249.00  249.00  249.00  249.00  249.00\n",
       "mean     0.00    0.00   -0.00   -0.00    0.00    0.00   -0.00\n",
       "std      8.84    1.21    0.78    0.47    0.46    0.21    0.06\n",
       "min    -16.71   -1.64   -2.00   -0.85   -0.73   -0.50   -0.12\n",
       "25%     -6.37   -1.10   -0.44   -0.32   -0.40   -0.14   -0.03\n",
       "50%     -2.22   -0.40   -0.17   -0.10   -0.06   -0.09   -0.00\n",
       "75%      4.38    1.49    0.35    0.32    0.36    0.16    0.03\n",
       "max     31.05    2.52    3.07    1.24    1.00    0.87    0.50"
      ]
     },
     "execution_count": 65,
     "metadata": {},
     "output_type": "execute_result"
    }
   ],
   "source": [
    "data_pca.describe().round(2)"
   ]
  },
  {
   "cell_type": "markdown",
   "id": "0cc6be7e-7e38-4cf9-a4d2-f499dbaac5a3",
   "metadata": {},
   "source": [
    "# Regression Feature Selection"
   ]
  },
  {
   "cell_type": "code",
   "execution_count": 51,
   "id": "cdfae192-2f45-4950-8b45-e7a3f44f4548",
   "metadata": {},
   "outputs": [],
   "source": [
    "from sklearn.feature_selection import SelectKBest\n",
    "from sklearn.feature_selection import f_regression"
   ]
  },
  {
   "cell_type": "code",
   "execution_count": 32,
   "id": "899fde75-28ed-4d54-a21a-c1551cd55b2c",
   "metadata": {},
   "outputs": [
    {
     "name": "stdout",
     "output_type": "stream",
     "text": [
      "(249, 4)\n"
     ]
    }
   ],
   "source": [
    "fs = SelectKBest(score_func=f_regression, k=4)\n",
    "# apply feature selection\n",
    "X_selected = fs.fit_transform(df1, y)\n",
    "\n",
    "print(X_selected.shape)"
   ]
  },
  {
   "cell_type": "code",
   "execution_count": 33,
   "id": "20e7af91-12ac-4433-9a91-90ef66a089db",
   "metadata": {},
   "outputs": [],
   "source": [
    "df3 = pd.DataFrame(X_selected)"
   ]
  },
  {
   "cell_type": "code",
   "execution_count": 34,
   "id": "8e5a7d66-6b03-4ab5-accc-be50a21c92c6",
   "metadata": {},
   "outputs": [
    {
     "data": {
      "text/html": [
       "<div>\n",
       "<style scoped>\n",
       "    .dataframe tbody tr th:only-of-type {\n",
       "        vertical-align: middle;\n",
       "    }\n",
       "\n",
       "    .dataframe tbody tr th {\n",
       "        vertical-align: top;\n",
       "    }\n",
       "\n",
       "    .dataframe thead th {\n",
       "        text-align: right;\n",
       "    }\n",
       "</style>\n",
       "<table border=\"1\" class=\"dataframe\">\n",
       "  <thead>\n",
       "    <tr style=\"text-align: right;\">\n",
       "      <th></th>\n",
       "      <th>0</th>\n",
       "      <th>1</th>\n",
       "      <th>2</th>\n",
       "      <th>3</th>\n",
       "    </tr>\n",
       "  </thead>\n",
       "  <tbody>\n",
       "    <tr>\n",
       "      <th>0</th>\n",
       "      <td>16.99</td>\n",
       "      <td>3.0</td>\n",
       "      <td>2.0</td>\n",
       "      <td>0.059447</td>\n",
       "    </tr>\n",
       "    <tr>\n",
       "      <th>1</th>\n",
       "      <td>10.34</td>\n",
       "      <td>3.0</td>\n",
       "      <td>3.0</td>\n",
       "      <td>0.160542</td>\n",
       "    </tr>\n",
       "    <tr>\n",
       "      <th>2</th>\n",
       "      <td>21.01</td>\n",
       "      <td>3.0</td>\n",
       "      <td>3.0</td>\n",
       "      <td>0.166587</td>\n",
       "    </tr>\n",
       "    <tr>\n",
       "      <th>3</th>\n",
       "      <td>23.68</td>\n",
       "      <td>3.0</td>\n",
       "      <td>2.0</td>\n",
       "      <td>0.139780</td>\n",
       "    </tr>\n",
       "    <tr>\n",
       "      <th>4</th>\n",
       "      <td>24.59</td>\n",
       "      <td>3.0</td>\n",
       "      <td>4.0</td>\n",
       "      <td>0.146808</td>\n",
       "    </tr>\n",
       "    <tr>\n",
       "      <th>...</th>\n",
       "      <td>...</td>\n",
       "      <td>...</td>\n",
       "      <td>...</td>\n",
       "      <td>...</td>\n",
       "    </tr>\n",
       "    <tr>\n",
       "      <th>244</th>\n",
       "      <td>16.99</td>\n",
       "      <td>3.0</td>\n",
       "      <td>2.0</td>\n",
       "      <td>0.059447</td>\n",
       "    </tr>\n",
       "    <tr>\n",
       "      <th>245</th>\n",
       "      <td>16.99</td>\n",
       "      <td>2.0</td>\n",
       "      <td>3.0</td>\n",
       "      <td>0.059447</td>\n",
       "    </tr>\n",
       "    <tr>\n",
       "      <th>246</th>\n",
       "      <td>16.99</td>\n",
       "      <td>0.0</td>\n",
       "      <td>3.0</td>\n",
       "      <td>0.059447</td>\n",
       "    </tr>\n",
       "    <tr>\n",
       "      <th>247</th>\n",
       "      <td>16.99</td>\n",
       "      <td>2.0</td>\n",
       "      <td>3.0</td>\n",
       "      <td>0.059447</td>\n",
       "    </tr>\n",
       "    <tr>\n",
       "      <th>248</th>\n",
       "      <td>16.99</td>\n",
       "      <td>0.0</td>\n",
       "      <td>5.0</td>\n",
       "      <td>0.059447</td>\n",
       "    </tr>\n",
       "  </tbody>\n",
       "</table>\n",
       "<p>249 rows × 4 columns</p>\n",
       "</div>"
      ],
      "text/plain": [
       "         0    1    2         3\n",
       "0    16.99  3.0  2.0  0.059447\n",
       "1    10.34  3.0  3.0  0.160542\n",
       "2    21.01  3.0  3.0  0.166587\n",
       "3    23.68  3.0  2.0  0.139780\n",
       "4    24.59  3.0  4.0  0.146808\n",
       "..     ...  ...  ...       ...\n",
       "244  16.99  3.0  2.0  0.059447\n",
       "245  16.99  2.0  3.0  0.059447\n",
       "246  16.99  0.0  3.0  0.059447\n",
       "247  16.99  2.0  3.0  0.059447\n",
       "248  16.99  0.0  5.0  0.059447\n",
       "\n",
       "[249 rows x 4 columns]"
      ]
     },
     "execution_count": 34,
     "metadata": {},
     "output_type": "execute_result"
    }
   ],
   "source": [
    "df3"
   ]
  }
 ],
 "metadata": {
  "kernelspec": {
   "display_name": "Python Multi",
   "language": "python",
   "name": "multi"
  },
  "language_info": {
   "codemirror_mode": {
    "name": "ipython",
    "version": 3
   },
   "file_extension": ".py",
   "mimetype": "text/x-python",
   "name": "python",
   "nbconvert_exporter": "python",
   "pygments_lexer": "ipython3",
   "version": "3.8.8"
  }
 },
 "nbformat": 4,
 "nbformat_minor": 5
}
