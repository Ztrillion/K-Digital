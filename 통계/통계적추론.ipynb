{
 "cells": [
  {
   "cell_type": "code",
   "execution_count": 1,
   "id": "362cb5b9-107f-4ca3-83a8-8a65a6278501",
   "metadata": {},
   "outputs": [],
   "source": [
    "import numpy as np\n",
    "from scipy import stats"
   ]
  },
  {
   "cell_type": "code",
   "execution_count": 2,
   "id": "43da223c-bf1d-440b-b6f8-6b0ef25bb753",
   "metadata": {},
   "outputs": [],
   "source": [
    "x_bar,mu,sigma,n = 196, 300, 5.3, 20"
   ]
  },
  {
   "cell_type": "code",
   "execution_count": null,
   "id": "a3e4ccfa-fe73-407a-a5da-7b961eef2fce",
   "metadata": {},
   "outputs": [],
   "source": [
    "# t-test 단일표본 t검정\n",
    "t_sample = (x_bar-mu)"
   ]
  }
 ],
 "metadata": {
  "kernelspec": {
   "display_name": "Python Multi",
   "language": "python",
   "name": "multi"
  },
  "language_info": {
   "codemirror_mode": {
    "name": "ipython",
    "version": 3
   },
   "file_extension": ".py",
   "mimetype": "text/x-python",
   "name": "python",
   "nbconvert_exporter": "python",
   "pygments_lexer": "ipython3",
   "version": "3.8.8"
  }
 },
 "nbformat": 4,
 "nbformat_minor": 5
}
