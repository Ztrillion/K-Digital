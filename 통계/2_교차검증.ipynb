{
 "cells": [
  {
   "cell_type": "markdown",
   "id": "d777dca8-5d04-4195-a61e-297c4d71cbe9",
   "metadata": {},
   "source": [
    "# 교차검증\n",
    "-  모델의 변동성을 줄여주고 오버피팅과 같은 문제를 막아줌\n",
    "- 1. 데이터를 학습용과 테스트용으로 분리\n",
    "- 2. 모델의 테스트성능 기록\n",
    "- 3. 교차검증 매 단계마다 다른 파티션으로 위의 작업 수행\n",
    "- 4. 모델의 최종성능은 매단계의 테스트 성능을 평균계산"
   ]
  },
  {
   "cell_type": "code",
   "execution_count": null,
   "id": "e581d5ac-074f-4156-8c1a-fb3becd1c618",
   "metadata": {},
   "outputs": [],
   "source": []
  }
 ],
 "metadata": {
  "kernelspec": {
   "display_name": "Python Multi",
   "language": "python",
   "name": "multi"
  },
  "language_info": {
   "codemirror_mode": {
    "name": "ipython",
    "version": 3
   },
   "file_extension": ".py",
   "mimetype": "text/x-python",
   "name": "python",
   "nbconvert_exporter": "python",
   "pygments_lexer": "ipython3",
   "version": "3.8.8"
  }
 },
 "nbformat": 4,
 "nbformat_minor": 5
}
