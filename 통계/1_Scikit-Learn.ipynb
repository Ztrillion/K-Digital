{
 "cells": [
  {
   "cell_type": "markdown",
   "id": "d22902ac-c100-4bae-af10-4856d6ceaf3e",
   "metadata": {},
   "source": [
    "# Scikit-Learn의 데이터 표현방식\n",
    "- scikit-learn은 데이터를 담고있는 2차원 구조의 특징행렬(X)과 레이블을 담고 있는 1차원 구조의 target(y)를 사용하도록 설계\n",
    "- scikit-learn의 Estimator는 공통 인터페이스로 fit, predict, score 메서드 제공\n",
    "- 회기 -> 선형 알고리즘 LinearRegressor를 사용\n",
    "- 분류 -> 분류 알고리즘 KNeighborsClassifier 사용\n",
    "- scikit-learn의 train, test,split 함수를 이용해 훈련데이터와 테스트데이터를 나누고, 모델의 성능은 테스트데이터를 이용해 측정"
   ]
  },
  {
   "cell_type": "code",
   "execution_count": 47,
   "id": "fa1ca8be-11a7-4469-948d-2ed5a31116b1",
   "metadata": {},
   "outputs": [],
   "source": [
    "# - seaborn : matplotlib 라이브러리의 플러그인 역활\n",
    "import seaborn as sns\n",
    "import numpy as np\n",
    "import matplotlib.pyplot as plt"
   ]
  },
  {
   "cell_type": "code",
   "execution_count": 2,
   "id": "84e13c65-bc9a-4b84-9320-c3868fcd68e6",
   "metadata": {},
   "outputs": [
    {
     "name": "stdout",
     "output_type": "stream",
     "text": [
      "<class 'pandas.core.frame.DataFrame'>\n",
      "RangeIndex: 150 entries, 0 to 149\n",
      "Data columns (total 5 columns):\n",
      " #   Column        Non-Null Count  Dtype  \n",
      "---  ------        --------------  -----  \n",
      " 0   sepal_length  150 non-null    float64\n",
      " 1   sepal_width   150 non-null    float64\n",
      " 2   petal_length  150 non-null    float64\n",
      " 3   petal_width   150 non-null    float64\n",
      " 4   species       150 non-null    object \n",
      "dtypes: float64(4), object(1)\n",
      "memory usage: 6.0+ KB\n"
     ]
    }
   ],
   "source": [
    "iris = sns.load_dataset(\"iris\")\n",
    "iris.info()\n",
    "# 입력값:0~3까지 인덱스 데이터, 결과값 4번 인덱스 데이터"
   ]
  },
  {
   "cell_type": "code",
   "execution_count": 3,
   "id": "f1257a87-55c8-4c95-8aa1-971182e718e5",
   "metadata": {},
   "outputs": [
    {
     "data": {
      "text/html": [
       "<div>\n",
       "<style scoped>\n",
       "    .dataframe tbody tr th:only-of-type {\n",
       "        vertical-align: middle;\n",
       "    }\n",
       "\n",
       "    .dataframe tbody tr th {\n",
       "        vertical-align: top;\n",
       "    }\n",
       "\n",
       "    .dataframe thead th {\n",
       "        text-align: right;\n",
       "    }\n",
       "</style>\n",
       "<table border=\"1\" class=\"dataframe\">\n",
       "  <thead>\n",
       "    <tr style=\"text-align: right;\">\n",
       "      <th></th>\n",
       "      <th>sepal_length</th>\n",
       "      <th>sepal_width</th>\n",
       "      <th>petal_length</th>\n",
       "      <th>petal_width</th>\n",
       "      <th>species</th>\n",
       "    </tr>\n",
       "  </thead>\n",
       "  <tbody>\n",
       "    <tr>\n",
       "      <th>0</th>\n",
       "      <td>5.1</td>\n",
       "      <td>3.5</td>\n",
       "      <td>1.4</td>\n",
       "      <td>0.2</td>\n",
       "      <td>setosa</td>\n",
       "    </tr>\n",
       "    <tr>\n",
       "      <th>1</th>\n",
       "      <td>4.9</td>\n",
       "      <td>3.0</td>\n",
       "      <td>1.4</td>\n",
       "      <td>0.2</td>\n",
       "      <td>setosa</td>\n",
       "    </tr>\n",
       "    <tr>\n",
       "      <th>2</th>\n",
       "      <td>4.7</td>\n",
       "      <td>3.2</td>\n",
       "      <td>1.3</td>\n",
       "      <td>0.2</td>\n",
       "      <td>setosa</td>\n",
       "    </tr>\n",
       "    <tr>\n",
       "      <th>3</th>\n",
       "      <td>4.6</td>\n",
       "      <td>3.1</td>\n",
       "      <td>1.5</td>\n",
       "      <td>0.2</td>\n",
       "      <td>setosa</td>\n",
       "    </tr>\n",
       "    <tr>\n",
       "      <th>4</th>\n",
       "      <td>5.0</td>\n",
       "      <td>3.6</td>\n",
       "      <td>1.4</td>\n",
       "      <td>0.2</td>\n",
       "      <td>setosa</td>\n",
       "    </tr>\n",
       "  </tbody>\n",
       "</table>\n",
       "</div>"
      ],
      "text/plain": [
       "   sepal_length  sepal_width  petal_length  petal_width species\n",
       "0           5.1          3.5           1.4          0.2  setosa\n",
       "1           4.9          3.0           1.4          0.2  setosa\n",
       "2           4.7          3.2           1.3          0.2  setosa\n",
       "3           4.6          3.1           1.5          0.2  setosa\n",
       "4           5.0          3.6           1.4          0.2  setosa"
      ]
     },
     "execution_count": 3,
     "metadata": {},
     "output_type": "execute_result"
    }
   ],
   "source": [
    "iris.head()"
   ]
  },
  {
   "cell_type": "code",
   "execution_count": 4,
   "id": "dbd9f26c-bf2d-4074-baec-ddd18f14c972",
   "metadata": {},
   "outputs": [
    {
     "data": {
      "text/plain": [
       "(150, 4)"
      ]
     },
     "execution_count": 4,
     "metadata": {},
     "output_type": "execute_result"
    }
   ],
   "source": [
    "#Feature Matrix 와 target vector를 추출하는 작업\n",
    "X = iris.drop(\"species\", axis=1) #species 열(칼럼) 삭제\n",
    "X.shape"
   ]
  },
  {
   "cell_type": "code",
   "execution_count": 5,
   "id": "05dc23dd-bed9-4a1f-b0b8-8caba6914e53",
   "metadata": {},
   "outputs": [
    {
     "data": {
      "text/plain": [
       "(150,)"
      ]
     },
     "execution_count": 5,
     "metadata": {},
     "output_type": "execute_result"
    }
   ],
   "source": [
    "y = iris[\"species\"]\n",
    "y.shape"
   ]
  },
  {
   "cell_type": "code",
   "execution_count": 6,
   "id": "76073aa4-08bc-4cde-98ae-e98920497502",
   "metadata": {},
   "outputs": [
    {
     "data": {
      "text/plain": [
       "sklearn.utils.Bunch"
      ]
     },
     "execution_count": 6,
     "metadata": {},
     "output_type": "execute_result"
    }
   ],
   "source": [
    "from sklearn.datasets import load_iris\n",
    "# Bunch 객체를 이용한 틍징행렬(X), 대상벡터(y) 생성\n",
    "iris = load_iris()\n",
    "type(iris)"
   ]
  },
  {
   "cell_type": "code",
   "execution_count": 7,
   "id": "9d291704-6fc5-45a2-a933-e37db9ac8186",
   "metadata": {},
   "outputs": [
    {
     "data": {
      "text/plain": [
       "dict_keys(['data', 'target', 'frame', 'target_names', 'DESCR', 'feature_names', 'filename'])"
      ]
     },
     "execution_count": 7,
     "metadata": {},
     "output_type": "execute_result"
    }
   ],
   "source": [
    "iris.keys()\n",
    "# data : x에 해당하는 특징행렬\n",
    "# target : y에 해당하는 "
   ]
  },
  {
   "cell_type": "code",
   "execution_count": 8,
   "id": "adae1c52-f463-474f-bdae-cdd2af97d77e",
   "metadata": {},
   "outputs": [
    {
     "data": {
      "text/plain": [
       "(['sepal length (cm)',\n",
       "  'sepal width (cm)',\n",
       "  'petal length (cm)',\n",
       "  'petal width (cm)'],\n",
       " array([[5.1, 3.5, 1.4, 0.2],\n",
       "        [4.9, 3. , 1.4, 0.2],\n",
       "        [4.7, 3.2, 1.3, 0.2],\n",
       "        [4.6, 3.1, 1.5, 0.2],\n",
       "        [5. , 3.6, 1.4, 0.2]]))"
      ]
     },
     "execution_count": 8,
     "metadata": {},
     "output_type": "execute_result"
    }
   ],
   "source": [
    "#target y를 제외한 컬럼 네임 생성 \n",
    "iris.feature_names, iris.data[:5]"
   ]
  },
  {
   "cell_type": "code",
   "execution_count": 9,
   "id": "870d76a0-3fc9-4202-8490-30b7def2ef7f",
   "metadata": {},
   "outputs": [
    {
     "data": {
      "text/plain": [
       "array([0, 0, 0, 0, 0, 0, 0, 0, 0, 0, 0, 0, 0, 0, 0, 0, 0, 0, 0, 0, 0, 0,\n",
       "       0, 0, 0, 0, 0, 0, 0, 0, 0, 0, 0, 0, 0, 0, 0, 0, 0, 0, 0, 0, 0, 0,\n",
       "       0, 0, 0, 0, 0, 0, 1, 1, 1, 1, 1, 1, 1, 1, 1, 1, 1, 1, 1, 1, 1, 1,\n",
       "       1, 1, 1, 1, 1, 1, 1, 1, 1, 1, 1, 1, 1, 1, 1, 1, 1, 1, 1, 1, 1, 1,\n",
       "       1, 1, 1, 1, 1, 1, 1, 1, 1, 1, 1, 1, 2, 2, 2, 2, 2, 2, 2, 2, 2, 2,\n",
       "       2, 2, 2, 2, 2, 2, 2, 2, 2, 2, 2, 2, 2, 2, 2, 2, 2, 2, 2, 2, 2, 2,\n",
       "       2, 2, 2, 2, 2, 2, 2, 2, 2, 2, 2, 2, 2, 2, 2, 2, 2, 2])"
      ]
     },
     "execution_count": 9,
     "metadata": {},
     "output_type": "execute_result"
    }
   ],
   "source": [
    "iris.target"
   ]
  },
  {
   "cell_type": "code",
   "execution_count": 10,
   "id": "766f0b6d-988f-4e5a-89e6-f28a21d587fa",
   "metadata": {},
   "outputs": [],
   "source": [
    "X = iris.data\n",
    "y = iris.target"
   ]
  },
  {
   "cell_type": "markdown",
   "id": "cfe77fb9-a062-4343-8380-b421815d03d5",
   "metadata": {},
   "source": [
    "# ScikitLearn Estimator\n",
    "- 추정기 라고도 불림\n",
    "- fit() :정확도"
   ]
  },
  {
   "cell_type": "code",
   "execution_count": 11,
   "id": "fff00862-d878-4315-90f0-0310d9c0ff0b",
   "metadata": {},
   "outputs": [],
   "source": [
    "rs = np.random.RandomState(10)\n",
    "x = 10 * rs.rand(100)"
   ]
  },
  {
   "cell_type": "code",
   "execution_count": 12,
   "id": "54b99a01-2014-4a1c-ab1c-941de34bf171",
   "metadata": {},
   "outputs": [],
   "source": [
    "y = 3 * x + 2 * rs.rand(100)"
   ]
  },
  {
   "cell_type": "code",
   "execution_count": 13,
   "id": "f7fbd9c6-e32e-4bfa-9c33-a26c70031df4",
   "metadata": {},
   "outputs": [
    {
     "data": {
      "text/plain": [
       "<matplotlib.collections.PathCollection at 0x16e5bb178e0>"
      ]
     },
     "execution_count": 13,
     "metadata": {},
     "output_type": "execute_result"
    },
    {
     "data": {
      "image/png": "[encoded data removed]",
      "text/plain": [
       "<Figure size 432x288 with 1 Axes>"
      ]
     },
     "metadata": {
      "needs_background": "light"
     },
     "output_type": "display_data"
    }
   ],
   "source": [
    "plt.scatter(x,y,s=10)"
   ]
  },
  {
   "cell_type": "code",
   "execution_count": 14,
   "id": "b68b49e0-4351-45f2-b342-ce14201a50be",
   "metadata": {},
   "outputs": [],
   "source": [
    "from sklearn.linear_model import LinearRegression #선형회기\n",
    "regr = LinearRegression()\n",
    "from sklearn.linear_model import LinearRegression #선형회기\n",
    "regr = LinearRegression(fit_intercept=True)"
   ]
  },
  {
   "cell_type": "code",
   "execution_count": 15,
   "id": "be4fe0fd-83a4-4233-8b4c-6c83f74a29c1",
   "metadata": {},
   "outputs": [],
   "source": [
    "X = x.reshape(-1,1)"
   ]
  },
  {
   "cell_type": "code",
   "execution_count": 16,
   "id": "a43b936e-4655-42a1-aae0-b294e71ed877",
   "metadata": {},
   "outputs": [
    {
     "data": {
      "text/plain": [
       "LinearRegression()"
      ]
     },
     "execution_count": 16,
     "metadata": {},
     "output_type": "execute_result"
    }
   ],
   "source": [
    "regr.fit(X,y)"
   ]
  },
  {
   "cell_type": "code",
   "execution_count": 17,
   "id": "a84bc43c-0f6c-41bf-af44-bd2e48f0d2e0",
   "metadata": {},
   "outputs": [
    {
     "data": {
      "text/plain": [
       "(array([2.9855087]), 0.9878534341975662)"
      ]
     },
     "execution_count": 17,
     "metadata": {},
     "output_type": "execute_result"
    }
   ],
   "source": [
    "regr.coef_, regr.intercept_"
   ]
  },
  {
   "cell_type": "code",
   "execution_count": 18,
   "id": "f73e4c0c-e700-4b8b-86a3-e1da693a9e91",
   "metadata": {},
   "outputs": [],
   "source": [
    "# 새로운데이터를 이용해 예측\n",
    "x_new = np.linspace(-1,11,num=100)"
   ]
  },
  {
   "cell_type": "code",
   "execution_count": 19,
   "id": "afeab7db-41a9-4402-aeda-c6a7da2930d7",
   "metadata": {},
   "outputs": [
    {
     "data": {
      "text/plain": [
       "(100, 1)"
      ]
     },
     "execution_count": 19,
     "metadata": {},
     "output_type": "execute_result"
    }
   ],
   "source": [
    "X_new=x_new.reshape(-1,1)\n",
    "X_new.shape"
   ]
  },
  {
   "cell_type": "code",
   "execution_count": 20,
   "id": "eed6212e-8a5d-4b56-bf3d-d74119713ffb",
   "metadata": {},
   "outputs": [],
   "source": [
    "#예측값\n",
    "y_pred = regr.predict(X_new)"
   ]
  },
  {
   "cell_type": "code",
   "execution_count": 21,
   "id": "e7328302-09be-47c0-9df0-d7fb20e6e821",
   "metadata": {},
   "outputs": [
    {
     "data": {
      "text/plain": [
       "<matplotlib.collections.PathCollection at 0x16e5c4c8be0>"
      ]
     },
     "execution_count": 21,
     "metadata": {},
     "output_type": "execute_result"
    },
    {
     "data": {
      "image/png": "[encoded data removed]",
      "text/plain": [
       "<Figure size 432x288 with 1 Axes>"
      ]
     },
     "metadata": {
      "needs_background": "light"
     },
     "output_type": "display_data"
    }
   ],
   "source": [
    "plt.plot(x_new,y_pred,c=\"red\")\n",
    "plt.scatter(X,y,s=10)"
   ]
  },
  {
   "cell_type": "markdown",
   "id": "51192195-e361-44b9-9dfa-3bcea5a9b644",
   "metadata": {},
   "source": [
    "# 모델평가"
   ]
  },
  {
   "cell_type": "code",
   "execution_count": 22,
   "id": "9aece660-6ca4-468c-9835-bbb03effa0b4",
   "metadata": {},
   "outputs": [
    {
     "data": {
      "text/plain": [
       "13.70823712248633"
      ]
     },
     "execution_count": 22,
     "metadata": {},
     "output_type": "execute_result"
    }
   ],
   "source": [
    "# 평균,제곱의 오차\n",
    "from sklearn.metrics import mean_squared_error\n",
    "\n",
    "#y:실제값, y_pred:예측값\n",
    "rmse = np.sqrt(mean_squared_error(y,y_pred))\n",
    "rmse"
   ]
  },
  {
   "cell_type": "markdown",
   "id": "98ef7e29-7208-40f9-ab9b-95a405c590e9",
   "metadata": {},
   "source": [
    "# 훈련데이터와 테스트데이터"
   ]
  },
  {
   "cell_type": "code",
   "execution_count": 23,
   "id": "14dd67d1-154d-4981-95c5-386a21d597ef",
   "metadata": {},
   "outputs": [],
   "source": [
    "X=iris.data\n",
    "y=iris.target"
   ]
  },
  {
   "cell_type": "code",
   "execution_count": 24,
   "id": "76228152-2bb8-46d5-a5e5-e7a786da7089",
   "metadata": {},
   "outputs": [],
   "source": [
    "from sklearn.neighbors import KNeighborsClassifier\n",
    "knn = KNeighborsClassifier(n_neighbors=1)"
   ]
  },
  {
   "cell_type": "code",
   "execution_count": 25,
   "id": "c51bcf7d-385e-4dda-aa88-1678b622323e",
   "metadata": {},
   "outputs": [
    {
     "data": {
      "text/plain": [
       "KNeighborsClassifier(n_neighbors=1)"
      ]
     },
     "execution_count": 25,
     "metadata": {},
     "output_type": "execute_result"
    }
   ],
   "source": [
    "knn.fit(X,y)"
   ]
  },
  {
   "cell_type": "code",
   "execution_count": 26,
   "id": "fa3ddc6f-ad69-47fb-8b2e-3f3b39d91e99",
   "metadata": {},
   "outputs": [],
   "source": [
    "y_pred=knn.predict(X)"
   ]
  },
  {
   "cell_type": "code",
   "execution_count": 27,
   "id": "1c7bbfd5-cb8b-478c-ba43-0ab6d8a24d27",
   "metadata": {},
   "outputs": [
    {
     "data": {
      "text/plain": [
       "1.0"
      ]
     },
     "execution_count": 27,
     "metadata": {},
     "output_type": "execute_result"
    }
   ],
   "source": [
    "#실측값과 예측값이 같다\n",
    "np.mean(y == y_pred)"
   ]
  },
  {
   "cell_type": "markdown",
   "id": "6fb9d21f-ad9c-4442-bd6f-a55f811c836a",
   "metadata": {},
   "source": [
    "# 훈련데이터와 테스트 데이터의 분리\n",
    "- 모델을 만들때 사용한 데이터는 모델의 성능측정용으로 사용하지않음 : 일반화문제\n",
    "- 훈련데이터 : 머신러닝 모델을 만들 목적으로 사용\n",
    "- 테스트데이터 : 머신러닝 모델이 잘 작동하는지 측정할 목적\n",
    "- scikit-learn의 train_test_split함수를 주로사용 (훈련용 75%, 테스트용 25%)"
   ]
  },
  {
   "cell_type": "code",
   "execution_count": 28,
   "id": "a1d3d25e-5bb9-4ff6-9169-228746ec2d6d",
   "metadata": {},
   "outputs": [],
   "source": [
    "from sklearn.model_selection import train_test_split"
   ]
  },
  {
   "cell_type": "code",
   "execution_count": 29,
   "id": "b07ef11a-e791-4061-90f9-85b1cfe4bf40",
   "metadata": {},
   "outputs": [],
   "source": [
    "# test 사이즈 20퍼센트로 설정\n",
    "X_train, X_test, y_train, y_test = train_test_split(X,y, test_size=0.2, random_state=25)"
   ]
  },
  {
   "cell_type": "code",
   "execution_count": 30,
   "id": "a8d661fc-0c4b-4f13-b161-a56ebd6033b9",
   "metadata": {},
   "outputs": [
    {
     "data": {
      "text/plain": [
       "((120, 4), (120,), (30, 4), (30,))"
      ]
     },
     "execution_count": 30,
     "metadata": {},
     "output_type": "execute_result"
    }
   ],
   "source": [
    "X_train.shape,  y_train.shape, X_test.shape, y_test.shape"
   ]
  },
  {
   "cell_type": "code",
   "execution_count": 31,
   "id": "ab39a9f2-fd80-4c5d-88b8-6f2ea341d8ff",
   "metadata": {},
   "outputs": [],
   "source": [
    "from sklearn.neighbors import KNeighborsClassifier\n",
    "knn = KNeighborsClassifier(n_neighbors=1)"
   ]
  },
  {
   "cell_type": "code",
   "execution_count": 32,
   "id": "71be66cf-38a7-4070-b08a-c16e03774d87",
   "metadata": {},
   "outputs": [
    {
     "data": {
      "text/plain": [
       "KNeighborsClassifier(n_neighbors=1)"
      ]
     },
     "execution_count": 32,
     "metadata": {},
     "output_type": "execute_result"
    }
   ],
   "source": [
    "knn.fit(X_train,y_train)"
   ]
  },
  {
   "cell_type": "code",
   "execution_count": 34,
   "id": "b4fa32a3-0e30-46db-94d6-7a92ccb3fbf5",
   "metadata": {},
   "outputs": [
    {
     "data": {
      "text/plain": [
       "array([0, 2, 2, 1, 2, 1, 2, 0, 1, 1, 0, 0, 0, 1, 0, 1, 2, 2, 1, 1, 1, 1,\n",
       "       1, 0, 0, 2, 1, 2, 2, 0])"
      ]
     },
     "execution_count": 34,
     "metadata": {},
     "output_type": "execute_result"
    }
   ],
   "source": [
    "y_pred = knn.predict(X_test)\n",
    "y_pred"
   ]
  },
  {
   "cell_type": "code",
   "execution_count": 36,
   "id": "8c395f6a-20c0-4b0c-88ae-ce115813f954",
   "metadata": {},
   "outputs": [
    {
     "data": {
      "text/plain": [
       "0.9"
      ]
     },
     "execution_count": 36,
     "metadata": {},
     "output_type": "execute_result"
    }
   ],
   "source": [
    "# y_test 20%해당하는 3-건의 데이터\n",
    "np.mean(y_test == y_pred)"
   ]
  },
  {
   "cell_type": "code",
   "execution_count": 37,
   "id": "0f701da6-8a43-43b9-b499-ad4778b01e6f",
   "metadata": {},
   "outputs": [
    {
     "data": {
      "text/plain": [
       "0.9"
      ]
     },
     "execution_count": 37,
     "metadata": {},
     "output_type": "execute_result"
    }
   ],
   "source": [
    "knn.score(X_test,y_test)"
   ]
  },
  {
   "cell_type": "code",
   "execution_count": 38,
   "id": "3b317881-1e32-4702-8b62-070533a670a1",
   "metadata": {},
   "outputs": [],
   "source": [
    "from sklearn.metrics import accuracy_score"
   ]
  },
  {
   "cell_type": "code",
   "execution_count": 41,
   "id": "76e38cea-8db2-40f6-aae7-5e77a53b7bb3",
   "metadata": {},
   "outputs": [
    {
     "data": {
      "text/plain": [
       "0.9"
      ]
     },
     "execution_count": 41,
     "metadata": {},
     "output_type": "execute_result"
    }
   ],
   "source": [
    "accuracy_score(y_test, y_pred)"
   ]
  },
  {
   "cell_type": "markdown",
   "id": "8f21d8d3-1716-4c99-b4c4-69acd70aa7c7",
   "metadata": {},
   "source": [
    "# 하이퍼파라미터의 선택"
   ]
  },
  {
   "cell_type": "code",
   "execution_count": 44,
   "id": "7b9517fa-531f-40d5-a3f2-e88e3b9f1835",
   "metadata": {},
   "outputs": [],
   "source": [
    "train_accuracy = []\n",
    "test_accuracy = []\n",
    "neighbors = range(1,11)\n",
    "for n in neighbors:\n",
    "    knn = KNeighborsClassifier(n_neighbors=n)\n",
    "    knn.fit(X_train,y_train)\n",
    "    train_accuracy.append(knn.score(X_train, y_train))\n",
    "    test_accuracy.append(knn.score(X_test, y_test))"
   ]
  },
  {
   "cell_type": "code",
   "execution_count": 46,
   "id": "d0f89a13-fc68-45ba-95dc-2abfe9903b9a",
   "metadata": {},
   "outputs": [
    {
     "data": {
      "text/plain": [
       "<matplotlib.legend.Legend at 0x16e5fb6b460>"
      ]
     },
     "execution_count": 46,
     "metadata": {},
     "output_type": "execute_result"
    },
    {
     "data": {
      "image/png": "[encoded data removed]",
      "text/plain": [
       "<Figure size 432x288 with 1 Axes>"
      ]
     },
     "metadata": {
      "needs_background": "light"
     },
     "output_type": "display_data"
    }
   ],
   "source": [
    "import matplotlib.pyplot as plt\n",
    "%matplotlib inline\n",
    "\n",
    "plt.plot(neighbors, train_accuracy, label=\"train accuracy\")\n",
    "plt.plot(neighbors, test_accuracy, label=\"test accuracy\")\n",
    "plt.xlabel(\"n_neighbors\")\n",
    "plt.ylabel(\"accuracy\")\n",
    "plt.legend()"
   ]
  },
  {
   "cell_type": "markdown",
   "id": "69dd7c5b-2c5d-4194-9eec-cfce90dfcbdf",
   "metadata": {},
   "source": []
  }
 ],
 "metadata": {
  "kernelspec": {
   "display_name": "Python Multi",
   "language": "python",
   "name": "multi"
  },
  "language_info": {
   "codemirror_mode": {
    "name": "ipython",
    "version": 3
   },
   "file_extension": ".py",
   "mimetype": "text/x-python",
   "name": "python",
   "nbconvert_exporter": "python",
   "pygments_lexer": "ipython3",
   "version": "3.8.8"
  }
 },
 "nbformat": 4,
 "nbformat_minor": 5
}
